{
  "nbformat": 4,
  "nbformat_minor": 0,
  "metadata": {
    "colab": {
      "provenance": []
    },
    "kernelspec": {
      "name": "python3",
      "display_name": "Python 3"
    },
    "language_info": {
      "name": "python"
    }
  },
  "cells": [
    {
      "cell_type": "markdown",
      "source": [
        "## Baixar dataset"
      ],
      "metadata": {
        "id": "Qjo4iboTdEvG"
      }
    },
    {
      "cell_type": "code",
      "source": [
        "!pip install gdown -qqq"
      ],
      "metadata": {
        "id": "DKMUQp5MWe1W"
      },
      "execution_count": 78,
      "outputs": []
    },
    {
      "cell_type": "code",
      "source": [
        "!gdown https://drive.google.com/uc?id=16OWdq_ebnlmF7xr5JZc4NzRTRAuthoa5"
      ],
      "metadata": {
        "colab": {
          "base_uri": "https://localhost:8080/"
        },
        "id": "f9V-gR8pWgaP",
        "outputId": "3bdf41f7-8409-4f09-c7b8-d99d8c1f4a9d"
      },
      "execution_count": 79,
      "outputs": [
        {
          "output_type": "stream",
          "name": "stdout",
          "text": [
            "Downloading...\n",
            "From: https://drive.google.com/uc?id=16OWdq_ebnlmF7xr5JZc4NzRTRAuthoa5\n",
            "To: /content/cars-india-dataset.csv\n",
            "\r  0% 0.00/20.6k [00:00<?, ?B/s]\r100% 20.6k/20.6k [00:00<00:00, 37.0MB/s]\n"
          ]
        }
      ]
    },
    {
      "cell_type": "code",
      "source": [
        "import pandas as pd\n",
        "import numpy as np\n",
        "import seaborn as sns"
      ],
      "metadata": {
        "id": "RAwfiyzEcDVq"
      },
      "execution_count": 80,
      "outputs": []
    },
    {
      "cell_type": "markdown",
      "source": [
        "## Carregar e visualizar conjunto de dados\n",
        "Material de apoio:\n",
        "- https://www.w3schools.com/python/pandas/pandas_csv.asp\n",
        "- https://pandas.pydata.org/docs/user_guide/10min.html#viewing-data"
      ],
      "metadata": {
        "id": "PbWrJ5OjKIiI"
      }
    },
    {
      "cell_type": "code",
      "source": [
        "df = pd.read_csv('cars-india-dataset.csv')\n",
        "\n",
        "df.head()"
      ],
      "metadata": {
        "id": "L0ieHBihLf2S",
        "colab": {
          "base_uri": "https://localhost:8080/",
          "height": 412
        },
        "outputId": "83734873-fe84-4068-e8a9-5572a62d2259"
      },
      "execution_count": 81,
      "outputs": [
        {
          "output_type": "execute_result",
          "data": {
            "text/plain": [
              "    Model       Maker          Type  Seats  Displacement  Length  Width  \\\n",
              "0  Virtus  Volkswagen         Sedan      5         999.0    4561   1752   \n",
              "1  Virtus  Volkswagen         Sedan      5         999.0    4561   1752   \n",
              "2  Virtus  Volkswagen         Sedan      5        1498.0    4561   1752   \n",
              "3  Taigun  Volkswagen  Mid Size SUV      5         999.0    4221   1760   \n",
              "4  Taigun  Volkswagen  Mid Size SUV      5         999.0    4221   1760   \n",
              "\n",
              "   Height  Wheelbase  No_of_Cylinders  ... Rear Brake Drive Turning Radius  \\\n",
              "0    1507       2651              3.0  ...       Drum   2WD           5.05   \n",
              "1    1507       2651              3.0  ...       Drum   2WD           5.05   \n",
              "2    1507       2651              4.0  ...       Drum   2WD           5.05   \n",
              "3    1612       2651              3.0  ...       Drum   2WD           5.05   \n",
              "4    1612       2651              3.0  ...       Drum   2WD           5.05   \n",
              "\n",
              "  Fuel Tank Capacity Boot Space Fuel Efficiency  Emission Type   Tyre Size  \\\n",
              "0               45.0      521.0           19.40          BS VI  205/55 R16   \n",
              "1               45.0      521.0           18.12          BS VI  205/55 R16   \n",
              "2               45.0      521.0           18.67          BS VI  205/55 R16   \n",
              "3               50.0      385.0           19.20          BS VI  205/55 R17   \n",
              "4               50.0      385.0           17.23          BS VI  205/55 R17   \n",
              "\n",
              "   Variants  NCAP Rating  \n",
              "0         3   Not Tested  \n",
              "1         2   Not Tested  \n",
              "2         1   Not Tested  \n",
              "3         3            5  \n",
              "4         2            5  \n",
              "\n",
              "[5 rows x 24 columns]"
            ],
            "text/html": [
              "\n",
              "  <div id=\"df-2b06c9ed-5bfc-4891-af72-64f1650ee3c7\" class=\"colab-df-container\">\n",
              "    <div>\n",
              "<style scoped>\n",
              "    .dataframe tbody tr th:only-of-type {\n",
              "        vertical-align: middle;\n",
              "    }\n",
              "\n",
              "    .dataframe tbody tr th {\n",
              "        vertical-align: top;\n",
              "    }\n",
              "\n",
              "    .dataframe thead th {\n",
              "        text-align: right;\n",
              "    }\n",
              "</style>\n",
              "<table border=\"1\" class=\"dataframe\">\n",
              "  <thead>\n",
              "    <tr style=\"text-align: right;\">\n",
              "      <th></th>\n",
              "      <th>Model</th>\n",
              "      <th>Maker</th>\n",
              "      <th>Type</th>\n",
              "      <th>Seats</th>\n",
              "      <th>Displacement</th>\n",
              "      <th>Length</th>\n",
              "      <th>Width</th>\n",
              "      <th>Height</th>\n",
              "      <th>Wheelbase</th>\n",
              "      <th>No_of_Cylinders</th>\n",
              "      <th>...</th>\n",
              "      <th>Rear Brake</th>\n",
              "      <th>Drive</th>\n",
              "      <th>Turning Radius</th>\n",
              "      <th>Fuel Tank Capacity</th>\n",
              "      <th>Boot Space</th>\n",
              "      <th>Fuel Efficiency</th>\n",
              "      <th>Emission Type</th>\n",
              "      <th>Tyre Size</th>\n",
              "      <th>Variants</th>\n",
              "      <th>NCAP Rating</th>\n",
              "    </tr>\n",
              "  </thead>\n",
              "  <tbody>\n",
              "    <tr>\n",
              "      <th>0</th>\n",
              "      <td>Virtus</td>\n",
              "      <td>Volkswagen</td>\n",
              "      <td>Sedan</td>\n",
              "      <td>5</td>\n",
              "      <td>999.0</td>\n",
              "      <td>4561</td>\n",
              "      <td>1752</td>\n",
              "      <td>1507</td>\n",
              "      <td>2651</td>\n",
              "      <td>3.0</td>\n",
              "      <td>...</td>\n",
              "      <td>Drum</td>\n",
              "      <td>2WD</td>\n",
              "      <td>5.05</td>\n",
              "      <td>45.0</td>\n",
              "      <td>521.0</td>\n",
              "      <td>19.40</td>\n",
              "      <td>BS VI</td>\n",
              "      <td>205/55 R16</td>\n",
              "      <td>3</td>\n",
              "      <td>Not Tested</td>\n",
              "    </tr>\n",
              "    <tr>\n",
              "      <th>1</th>\n",
              "      <td>Virtus</td>\n",
              "      <td>Volkswagen</td>\n",
              "      <td>Sedan</td>\n",
              "      <td>5</td>\n",
              "      <td>999.0</td>\n",
              "      <td>4561</td>\n",
              "      <td>1752</td>\n",
              "      <td>1507</td>\n",
              "      <td>2651</td>\n",
              "      <td>3.0</td>\n",
              "      <td>...</td>\n",
              "      <td>Drum</td>\n",
              "      <td>2WD</td>\n",
              "      <td>5.05</td>\n",
              "      <td>45.0</td>\n",
              "      <td>521.0</td>\n",
              "      <td>18.12</td>\n",
              "      <td>BS VI</td>\n",
              "      <td>205/55 R16</td>\n",
              "      <td>2</td>\n",
              "      <td>Not Tested</td>\n",
              "    </tr>\n",
              "    <tr>\n",
              "      <th>2</th>\n",
              "      <td>Virtus</td>\n",
              "      <td>Volkswagen</td>\n",
              "      <td>Sedan</td>\n",
              "      <td>5</td>\n",
              "      <td>1498.0</td>\n",
              "      <td>4561</td>\n",
              "      <td>1752</td>\n",
              "      <td>1507</td>\n",
              "      <td>2651</td>\n",
              "      <td>4.0</td>\n",
              "      <td>...</td>\n",
              "      <td>Drum</td>\n",
              "      <td>2WD</td>\n",
              "      <td>5.05</td>\n",
              "      <td>45.0</td>\n",
              "      <td>521.0</td>\n",
              "      <td>18.67</td>\n",
              "      <td>BS VI</td>\n",
              "      <td>205/55 R16</td>\n",
              "      <td>1</td>\n",
              "      <td>Not Tested</td>\n",
              "    </tr>\n",
              "    <tr>\n",
              "      <th>3</th>\n",
              "      <td>Taigun</td>\n",
              "      <td>Volkswagen</td>\n",
              "      <td>Mid Size SUV</td>\n",
              "      <td>5</td>\n",
              "      <td>999.0</td>\n",
              "      <td>4221</td>\n",
              "      <td>1760</td>\n",
              "      <td>1612</td>\n",
              "      <td>2651</td>\n",
              "      <td>3.0</td>\n",
              "      <td>...</td>\n",
              "      <td>Drum</td>\n",
              "      <td>2WD</td>\n",
              "      <td>5.05</td>\n",
              "      <td>50.0</td>\n",
              "      <td>385.0</td>\n",
              "      <td>19.20</td>\n",
              "      <td>BS VI</td>\n",
              "      <td>205/55 R17</td>\n",
              "      <td>3</td>\n",
              "      <td>5</td>\n",
              "    </tr>\n",
              "    <tr>\n",
              "      <th>4</th>\n",
              "      <td>Taigun</td>\n",
              "      <td>Volkswagen</td>\n",
              "      <td>Mid Size SUV</td>\n",
              "      <td>5</td>\n",
              "      <td>999.0</td>\n",
              "      <td>4221</td>\n",
              "      <td>1760</td>\n",
              "      <td>1612</td>\n",
              "      <td>2651</td>\n",
              "      <td>3.0</td>\n",
              "      <td>...</td>\n",
              "      <td>Drum</td>\n",
              "      <td>2WD</td>\n",
              "      <td>5.05</td>\n",
              "      <td>50.0</td>\n",
              "      <td>385.0</td>\n",
              "      <td>17.23</td>\n",
              "      <td>BS VI</td>\n",
              "      <td>205/55 R17</td>\n",
              "      <td>2</td>\n",
              "      <td>5</td>\n",
              "    </tr>\n",
              "  </tbody>\n",
              "</table>\n",
              "<p>5 rows × 24 columns</p>\n",
              "</div>\n",
              "    <div class=\"colab-df-buttons\">\n",
              "\n",
              "  <div class=\"colab-df-container\">\n",
              "    <button class=\"colab-df-convert\" onclick=\"convertToInteractive('df-2b06c9ed-5bfc-4891-af72-64f1650ee3c7')\"\n",
              "            title=\"Convert this dataframe to an interactive table.\"\n",
              "            style=\"display:none;\">\n",
              "\n",
              "  <svg xmlns=\"http://www.w3.org/2000/svg\" height=\"24px\" viewBox=\"0 -960 960 960\">\n",
              "    <path d=\"M120-120v-720h720v720H120Zm60-500h600v-160H180v160Zm220 220h160v-160H400v160Zm0 220h160v-160H400v160ZM180-400h160v-160H180v160Zm440 0h160v-160H620v160ZM180-180h160v-160H180v160Zm440 0h160v-160H620v160Z\"/>\n",
              "  </svg>\n",
              "    </button>\n",
              "\n",
              "  <style>\n",
              "    .colab-df-container {\n",
              "      display:flex;\n",
              "      gap: 12px;\n",
              "    }\n",
              "\n",
              "    .colab-df-convert {\n",
              "      background-color: #E8F0FE;\n",
              "      border: none;\n",
              "      border-radius: 50%;\n",
              "      cursor: pointer;\n",
              "      display: none;\n",
              "      fill: #1967D2;\n",
              "      height: 32px;\n",
              "      padding: 0 0 0 0;\n",
              "      width: 32px;\n",
              "    }\n",
              "\n",
              "    .colab-df-convert:hover {\n",
              "      background-color: #E2EBFA;\n",
              "      box-shadow: 0px 1px 2px rgba(60, 64, 67, 0.3), 0px 1px 3px 1px rgba(60, 64, 67, 0.15);\n",
              "      fill: #174EA6;\n",
              "    }\n",
              "\n",
              "    .colab-df-buttons div {\n",
              "      margin-bottom: 4px;\n",
              "    }\n",
              "\n",
              "    [theme=dark] .colab-df-convert {\n",
              "      background-color: #3B4455;\n",
              "      fill: #D2E3FC;\n",
              "    }\n",
              "\n",
              "    [theme=dark] .colab-df-convert:hover {\n",
              "      background-color: #434B5C;\n",
              "      box-shadow: 0px 1px 3px 1px rgba(0, 0, 0, 0.15);\n",
              "      filter: drop-shadow(0px 1px 2px rgba(0, 0, 0, 0.3));\n",
              "      fill: #FFFFFF;\n",
              "    }\n",
              "  </style>\n",
              "\n",
              "    <script>\n",
              "      const buttonEl =\n",
              "        document.querySelector('#df-2b06c9ed-5bfc-4891-af72-64f1650ee3c7 button.colab-df-convert');\n",
              "      buttonEl.style.display =\n",
              "        google.colab.kernel.accessAllowed ? 'block' : 'none';\n",
              "\n",
              "      async function convertToInteractive(key) {\n",
              "        const element = document.querySelector('#df-2b06c9ed-5bfc-4891-af72-64f1650ee3c7');\n",
              "        const dataTable =\n",
              "          await google.colab.kernel.invokeFunction('convertToInteractive',\n",
              "                                                    [key], {});\n",
              "        if (!dataTable) return;\n",
              "\n",
              "        const docLinkHtml = 'Like what you see? Visit the ' +\n",
              "          '<a target=\"_blank\" href=https://colab.research.google.com/notebooks/data_table.ipynb>data table notebook</a>'\n",
              "          + ' to learn more about interactive tables.';\n",
              "        element.innerHTML = '';\n",
              "        dataTable['output_type'] = 'display_data';\n",
              "        await google.colab.output.renderOutput(dataTable, element);\n",
              "        const docLink = document.createElement('div');\n",
              "        docLink.innerHTML = docLinkHtml;\n",
              "        element.appendChild(docLink);\n",
              "      }\n",
              "    </script>\n",
              "  </div>\n",
              "\n",
              "\n",
              "<div id=\"df-550ddd93-13b0-4f9e-b307-dd04f48e9d9c\">\n",
              "  <button class=\"colab-df-quickchart\" onclick=\"quickchart('df-550ddd93-13b0-4f9e-b307-dd04f48e9d9c')\"\n",
              "            title=\"Suggest charts\"\n",
              "            style=\"display:none;\">\n",
              "\n",
              "<svg xmlns=\"http://www.w3.org/2000/svg\" height=\"24px\"viewBox=\"0 0 24 24\"\n",
              "     width=\"24px\">\n",
              "    <g>\n",
              "        <path d=\"M19 3H5c-1.1 0-2 .9-2 2v14c0 1.1.9 2 2 2h14c1.1 0 2-.9 2-2V5c0-1.1-.9-2-2-2zM9 17H7v-7h2v7zm4 0h-2V7h2v10zm4 0h-2v-4h2v4z\"/>\n",
              "    </g>\n",
              "</svg>\n",
              "  </button>\n",
              "\n",
              "<style>\n",
              "  .colab-df-quickchart {\n",
              "      --bg-color: #E8F0FE;\n",
              "      --fill-color: #1967D2;\n",
              "      --hover-bg-color: #E2EBFA;\n",
              "      --hover-fill-color: #174EA6;\n",
              "      --disabled-fill-color: #AAA;\n",
              "      --disabled-bg-color: #DDD;\n",
              "  }\n",
              "\n",
              "  [theme=dark] .colab-df-quickchart {\n",
              "      --bg-color: #3B4455;\n",
              "      --fill-color: #D2E3FC;\n",
              "      --hover-bg-color: #434B5C;\n",
              "      --hover-fill-color: #FFFFFF;\n",
              "      --disabled-bg-color: #3B4455;\n",
              "      --disabled-fill-color: #666;\n",
              "  }\n",
              "\n",
              "  .colab-df-quickchart {\n",
              "    background-color: var(--bg-color);\n",
              "    border: none;\n",
              "    border-radius: 50%;\n",
              "    cursor: pointer;\n",
              "    display: none;\n",
              "    fill: var(--fill-color);\n",
              "    height: 32px;\n",
              "    padding: 0;\n",
              "    width: 32px;\n",
              "  }\n",
              "\n",
              "  .colab-df-quickchart:hover {\n",
              "    background-color: var(--hover-bg-color);\n",
              "    box-shadow: 0 1px 2px rgba(60, 64, 67, 0.3), 0 1px 3px 1px rgba(60, 64, 67, 0.15);\n",
              "    fill: var(--button-hover-fill-color);\n",
              "  }\n",
              "\n",
              "  .colab-df-quickchart-complete:disabled,\n",
              "  .colab-df-quickchart-complete:disabled:hover {\n",
              "    background-color: var(--disabled-bg-color);\n",
              "    fill: var(--disabled-fill-color);\n",
              "    box-shadow: none;\n",
              "  }\n",
              "\n",
              "  .colab-df-spinner {\n",
              "    border: 2px solid var(--fill-color);\n",
              "    border-color: transparent;\n",
              "    border-bottom-color: var(--fill-color);\n",
              "    animation:\n",
              "      spin 1s steps(1) infinite;\n",
              "  }\n",
              "\n",
              "  @keyframes spin {\n",
              "    0% {\n",
              "      border-color: transparent;\n",
              "      border-bottom-color: var(--fill-color);\n",
              "      border-left-color: var(--fill-color);\n",
              "    }\n",
              "    20% {\n",
              "      border-color: transparent;\n",
              "      border-left-color: var(--fill-color);\n",
              "      border-top-color: var(--fill-color);\n",
              "    }\n",
              "    30% {\n",
              "      border-color: transparent;\n",
              "      border-left-color: var(--fill-color);\n",
              "      border-top-color: var(--fill-color);\n",
              "      border-right-color: var(--fill-color);\n",
              "    }\n",
              "    40% {\n",
              "      border-color: transparent;\n",
              "      border-right-color: var(--fill-color);\n",
              "      border-top-color: var(--fill-color);\n",
              "    }\n",
              "    60% {\n",
              "      border-color: transparent;\n",
              "      border-right-color: var(--fill-color);\n",
              "    }\n",
              "    80% {\n",
              "      border-color: transparent;\n",
              "      border-right-color: var(--fill-color);\n",
              "      border-bottom-color: var(--fill-color);\n",
              "    }\n",
              "    90% {\n",
              "      border-color: transparent;\n",
              "      border-bottom-color: var(--fill-color);\n",
              "    }\n",
              "  }\n",
              "</style>\n",
              "\n",
              "  <script>\n",
              "    async function quickchart(key) {\n",
              "      const quickchartButtonEl =\n",
              "        document.querySelector('#' + key + ' button');\n",
              "      quickchartButtonEl.disabled = true;  // To prevent multiple clicks.\n",
              "      quickchartButtonEl.classList.add('colab-df-spinner');\n",
              "      try {\n",
              "        const charts = await google.colab.kernel.invokeFunction(\n",
              "            'suggestCharts', [key], {});\n",
              "      } catch (error) {\n",
              "        console.error('Error during call to suggestCharts:', error);\n",
              "      }\n",
              "      quickchartButtonEl.classList.remove('colab-df-spinner');\n",
              "      quickchartButtonEl.classList.add('colab-df-quickchart-complete');\n",
              "    }\n",
              "    (() => {\n",
              "      let quickchartButtonEl =\n",
              "        document.querySelector('#df-550ddd93-13b0-4f9e-b307-dd04f48e9d9c button');\n",
              "      quickchartButtonEl.style.display =\n",
              "        google.colab.kernel.accessAllowed ? 'block' : 'none';\n",
              "    })();\n",
              "  </script>\n",
              "</div>\n",
              "\n",
              "    </div>\n",
              "  </div>\n"
            ],
            "application/vnd.google.colaboratory.intrinsic+json": {
              "type": "dataframe",
              "variable_name": "df"
            }
          },
          "metadata": {},
          "execution_count": 81
        }
      ]
    },
    {
      "cell_type": "code",
      "source": [
        "df.shape"
      ],
      "metadata": {
        "colab": {
          "base_uri": "https://localhost:8080/"
        },
        "id": "tmyZEW-NddLZ",
        "outputId": "a6fc34d3-6b9c-4014-f6fb-af414e6a24f2"
      },
      "execution_count": 82,
      "outputs": [
        {
          "output_type": "execute_result",
          "data": {
            "text/plain": [
              "(156, 24)"
            ]
          },
          "metadata": {},
          "execution_count": 82
        }
      ]
    },
    {
      "cell_type": "code",
      "source": [
        "df.columns"
      ],
      "metadata": {
        "colab": {
          "base_uri": "https://localhost:8080/"
        },
        "id": "BHJPuK7nduAv",
        "outputId": "6362a1a6-9198-4ff6-e2d4-04812dd3f754"
      },
      "execution_count": 83,
      "outputs": [
        {
          "output_type": "execute_result",
          "data": {
            "text/plain": [
              "Index(['Model', 'Maker', 'Type', 'Seats', 'Displacement', 'Length', 'Width',\n",
              "       'Height', 'Wheelbase', 'No_of_Cylinders', 'Fuel', 'Engine Type',\n",
              "       'Transmission', 'Front Brake', 'Rear Brake', 'Drive', 'Turning Radius',\n",
              "       'Fuel Tank Capacity', 'Boot Space', 'Fuel Efficiency', 'Emission Type',\n",
              "       'Tyre Size', 'Variants', 'NCAP Rating'],\n",
              "      dtype='object')"
            ]
          },
          "metadata": {},
          "execution_count": 83
        }
      ]
    },
    {
      "cell_type": "code",
      "source": [
        "df.info()"
      ],
      "metadata": {
        "colab": {
          "base_uri": "https://localhost:8080/"
        },
        "id": "pKr3z-ZydT4r",
        "outputId": "9458491d-a35e-496d-de62-459a8de95a7c"
      },
      "execution_count": 84,
      "outputs": [
        {
          "output_type": "stream",
          "name": "stdout",
          "text": [
            "<class 'pandas.core.frame.DataFrame'>\n",
            "RangeIndex: 156 entries, 0 to 155\n",
            "Data columns (total 24 columns):\n",
            " #   Column              Non-Null Count  Dtype  \n",
            "---  ------              --------------  -----  \n",
            " 0   Model               156 non-null    object \n",
            " 1   Maker               156 non-null    object \n",
            " 2   Type                156 non-null    object \n",
            " 3   Seats               156 non-null    int64  \n",
            " 4   Displacement        155 non-null    float64\n",
            " 5   Length              156 non-null    int64  \n",
            " 6   Width               156 non-null    int64  \n",
            " 7   Height              156 non-null    int64  \n",
            " 8   Wheelbase           156 non-null    int64  \n",
            " 9   No_of_Cylinders     155 non-null    float64\n",
            " 10  Fuel                156 non-null    object \n",
            " 11  Engine Type         156 non-null    object \n",
            " 12  Transmission        155 non-null    object \n",
            " 13  Front Brake         156 non-null    object \n",
            " 14  Rear Brake          156 non-null    object \n",
            " 15  Drive               156 non-null    object \n",
            " 16  Turning Radius      137 non-null    float64\n",
            " 17  Fuel Tank Capacity  155 non-null    float64\n",
            " 18  Boot Space          141 non-null    float64\n",
            " 19  Fuel Efficiency     133 non-null    float64\n",
            " 20  Emission Type       155 non-null    object \n",
            " 21  Tyre Size           156 non-null    object \n",
            " 22  Variants            156 non-null    int64  \n",
            " 23  NCAP Rating         156 non-null    object \n",
            "dtypes: float64(6), int64(6), object(12)\n",
            "memory usage: 29.4+ KB\n"
          ]
        }
      ]
    },
    {
      "cell_type": "code",
      "source": [
        "df.isnull().sum()"
      ],
      "metadata": {
        "colab": {
          "base_uri": "https://localhost:8080/"
        },
        "id": "g9WElcO4b11N",
        "outputId": "b19dd8b3-f003-444d-d978-9cbe3f490977"
      },
      "execution_count": 85,
      "outputs": [
        {
          "output_type": "execute_result",
          "data": {
            "text/plain": [
              "Model                  0\n",
              "Maker                  0\n",
              "Type                   0\n",
              "Seats                  0\n",
              "Displacement           1\n",
              "Length                 0\n",
              "Width                  0\n",
              "Height                 0\n",
              "Wheelbase              0\n",
              "No_of_Cylinders        1\n",
              "Fuel                   0\n",
              "Engine Type            0\n",
              "Transmission           1\n",
              "Front Brake            0\n",
              "Rear Brake             0\n",
              "Drive                  0\n",
              "Turning Radius        19\n",
              "Fuel Tank Capacity     1\n",
              "Boot Space            15\n",
              "Fuel Efficiency       23\n",
              "Emission Type          1\n",
              "Tyre Size              0\n",
              "Variants               0\n",
              "NCAP Rating            0\n",
              "dtype: int64"
            ]
          },
          "metadata": {},
          "execution_count": 85
        }
      ]
    },
    {
      "cell_type": "code",
      "source": [
        "np.unique(df['NCAP Rating'])"
      ],
      "metadata": {
        "colab": {
          "base_uri": "https://localhost:8080/"
        },
        "id": "IzPwnD0db8zo",
        "outputId": "a7249e4c-597a-401d-bd59-e3c52264098b"
      },
      "execution_count": 86,
      "outputs": [
        {
          "output_type": "execute_result",
          "data": {
            "text/plain": [
              "array(['0', '2', '3', '4', '5', '6', 'Not Rated', 'Not Tested'],\n",
              "      dtype=object)"
            ]
          },
          "metadata": {},
          "execution_count": 86
        }
      ]
    },
    {
      "cell_type": "code",
      "source": [
        "df.describe()"
      ],
      "metadata": {
        "colab": {
          "base_uri": "https://localhost:8080/",
          "height": 338
        },
        "id": "VmC-ra41dvPO",
        "outputId": "04049c13-621e-45b2-b3cd-9b481819bcec"
      },
      "execution_count": 87,
      "outputs": [
        {
          "output_type": "execute_result",
          "data": {
            "text/plain": [
              "            Seats  Displacement       Length        Width       Height  \\\n",
              "count  156.000000    155.000000   156.000000   156.000000   156.000000   \n",
              "mean     5.538462   1598.109677  4324.455128  1800.512821  1653.666667   \n",
              "std      1.018440    504.656969   325.767389    79.050452   125.170559   \n",
              "min      2.000000    799.000000  3731.000000  1579.000000  1370.000000   \n",
              "25%      5.000000   1197.000000  3995.000000  1751.500000  1544.000000   \n",
              "50%      5.000000   1493.000000  4315.000000  1790.000000  1631.000000   \n",
              "75%      6.000000   1999.000000  4598.000000  1855.000000  1755.000000   \n",
              "max      9.000000   3799.000000  5115.000000  2099.000000  1995.000000   \n",
              "\n",
              "         Wheelbase  No_of_Cylinders  Turning Radius  Fuel Tank Capacity  \\\n",
              "count   156.000000       155.000000      137.000000          155.000000   \n",
              "mean   2633.358974         3.870968        5.247080           48.725806   \n",
              "std     128.228372         0.389966        0.284181           10.997815   \n",
              "min    2422.000000         3.000000        4.700000           28.000000   \n",
              "25%    2500.000000         4.000000        5.100000           40.000000   \n",
              "50%    2610.000000         4.000000        5.200000           50.000000   \n",
              "75%    2750.000000         4.000000        5.300000           57.000000   \n",
              "max    3060.000000         6.000000        5.900000           80.000000   \n",
              "\n",
              "       Boot Space  Fuel Efficiency    Variants  \n",
              "count  141.000000       133.000000  156.000000  \n",
              "mean   377.673759        18.028947    2.871795  \n",
              "std    105.015951         3.273723    2.864055  \n",
              "min    180.000000         9.000000    1.000000  \n",
              "25%    296.000000        16.200000    1.000000  \n",
              "50%    392.000000        18.100000    2.000000  \n",
              "75%    447.000000        20.250000    3.000000  \n",
              "max    625.000000        28.000000   20.000000  "
            ],
            "text/html": [
              "\n",
              "  <div id=\"df-c35642f7-f09e-44ec-8fb1-5f90536bddea\" class=\"colab-df-container\">\n",
              "    <div>\n",
              "<style scoped>\n",
              "    .dataframe tbody tr th:only-of-type {\n",
              "        vertical-align: middle;\n",
              "    }\n",
              "\n",
              "    .dataframe tbody tr th {\n",
              "        vertical-align: top;\n",
              "    }\n",
              "\n",
              "    .dataframe thead th {\n",
              "        text-align: right;\n",
              "    }\n",
              "</style>\n",
              "<table border=\"1\" class=\"dataframe\">\n",
              "  <thead>\n",
              "    <tr style=\"text-align: right;\">\n",
              "      <th></th>\n",
              "      <th>Seats</th>\n",
              "      <th>Displacement</th>\n",
              "      <th>Length</th>\n",
              "      <th>Width</th>\n",
              "      <th>Height</th>\n",
              "      <th>Wheelbase</th>\n",
              "      <th>No_of_Cylinders</th>\n",
              "      <th>Turning Radius</th>\n",
              "      <th>Fuel Tank Capacity</th>\n",
              "      <th>Boot Space</th>\n",
              "      <th>Fuel Efficiency</th>\n",
              "      <th>Variants</th>\n",
              "    </tr>\n",
              "  </thead>\n",
              "  <tbody>\n",
              "    <tr>\n",
              "      <th>count</th>\n",
              "      <td>156.000000</td>\n",
              "      <td>155.000000</td>\n",
              "      <td>156.000000</td>\n",
              "      <td>156.000000</td>\n",
              "      <td>156.000000</td>\n",
              "      <td>156.000000</td>\n",
              "      <td>155.000000</td>\n",
              "      <td>137.000000</td>\n",
              "      <td>155.000000</td>\n",
              "      <td>141.000000</td>\n",
              "      <td>133.000000</td>\n",
              "      <td>156.000000</td>\n",
              "    </tr>\n",
              "    <tr>\n",
              "      <th>mean</th>\n",
              "      <td>5.538462</td>\n",
              "      <td>1598.109677</td>\n",
              "      <td>4324.455128</td>\n",
              "      <td>1800.512821</td>\n",
              "      <td>1653.666667</td>\n",
              "      <td>2633.358974</td>\n",
              "      <td>3.870968</td>\n",
              "      <td>5.247080</td>\n",
              "      <td>48.725806</td>\n",
              "      <td>377.673759</td>\n",
              "      <td>18.028947</td>\n",
              "      <td>2.871795</td>\n",
              "    </tr>\n",
              "    <tr>\n",
              "      <th>std</th>\n",
              "      <td>1.018440</td>\n",
              "      <td>504.656969</td>\n",
              "      <td>325.767389</td>\n",
              "      <td>79.050452</td>\n",
              "      <td>125.170559</td>\n",
              "      <td>128.228372</td>\n",
              "      <td>0.389966</td>\n",
              "      <td>0.284181</td>\n",
              "      <td>10.997815</td>\n",
              "      <td>105.015951</td>\n",
              "      <td>3.273723</td>\n",
              "      <td>2.864055</td>\n",
              "    </tr>\n",
              "    <tr>\n",
              "      <th>min</th>\n",
              "      <td>2.000000</td>\n",
              "      <td>799.000000</td>\n",
              "      <td>3731.000000</td>\n",
              "      <td>1579.000000</td>\n",
              "      <td>1370.000000</td>\n",
              "      <td>2422.000000</td>\n",
              "      <td>3.000000</td>\n",
              "      <td>4.700000</td>\n",
              "      <td>28.000000</td>\n",
              "      <td>180.000000</td>\n",
              "      <td>9.000000</td>\n",
              "      <td>1.000000</td>\n",
              "    </tr>\n",
              "    <tr>\n",
              "      <th>25%</th>\n",
              "      <td>5.000000</td>\n",
              "      <td>1197.000000</td>\n",
              "      <td>3995.000000</td>\n",
              "      <td>1751.500000</td>\n",
              "      <td>1544.000000</td>\n",
              "      <td>2500.000000</td>\n",
              "      <td>4.000000</td>\n",
              "      <td>5.100000</td>\n",
              "      <td>40.000000</td>\n",
              "      <td>296.000000</td>\n",
              "      <td>16.200000</td>\n",
              "      <td>1.000000</td>\n",
              "    </tr>\n",
              "    <tr>\n",
              "      <th>50%</th>\n",
              "      <td>5.000000</td>\n",
              "      <td>1493.000000</td>\n",
              "      <td>4315.000000</td>\n",
              "      <td>1790.000000</td>\n",
              "      <td>1631.000000</td>\n",
              "      <td>2610.000000</td>\n",
              "      <td>4.000000</td>\n",
              "      <td>5.200000</td>\n",
              "      <td>50.000000</td>\n",
              "      <td>392.000000</td>\n",
              "      <td>18.100000</td>\n",
              "      <td>2.000000</td>\n",
              "    </tr>\n",
              "    <tr>\n",
              "      <th>75%</th>\n",
              "      <td>6.000000</td>\n",
              "      <td>1999.000000</td>\n",
              "      <td>4598.000000</td>\n",
              "      <td>1855.000000</td>\n",
              "      <td>1755.000000</td>\n",
              "      <td>2750.000000</td>\n",
              "      <td>4.000000</td>\n",
              "      <td>5.300000</td>\n",
              "      <td>57.000000</td>\n",
              "      <td>447.000000</td>\n",
              "      <td>20.250000</td>\n",
              "      <td>3.000000</td>\n",
              "    </tr>\n",
              "    <tr>\n",
              "      <th>max</th>\n",
              "      <td>9.000000</td>\n",
              "      <td>3799.000000</td>\n",
              "      <td>5115.000000</td>\n",
              "      <td>2099.000000</td>\n",
              "      <td>1995.000000</td>\n",
              "      <td>3060.000000</td>\n",
              "      <td>6.000000</td>\n",
              "      <td>5.900000</td>\n",
              "      <td>80.000000</td>\n",
              "      <td>625.000000</td>\n",
              "      <td>28.000000</td>\n",
              "      <td>20.000000</td>\n",
              "    </tr>\n",
              "  </tbody>\n",
              "</table>\n",
              "</div>\n",
              "    <div class=\"colab-df-buttons\">\n",
              "\n",
              "  <div class=\"colab-df-container\">\n",
              "    <button class=\"colab-df-convert\" onclick=\"convertToInteractive('df-c35642f7-f09e-44ec-8fb1-5f90536bddea')\"\n",
              "            title=\"Convert this dataframe to an interactive table.\"\n",
              "            style=\"display:none;\">\n",
              "\n",
              "  <svg xmlns=\"http://www.w3.org/2000/svg\" height=\"24px\" viewBox=\"0 -960 960 960\">\n",
              "    <path d=\"M120-120v-720h720v720H120Zm60-500h600v-160H180v160Zm220 220h160v-160H400v160Zm0 220h160v-160H400v160ZM180-400h160v-160H180v160Zm440 0h160v-160H620v160ZM180-180h160v-160H180v160Zm440 0h160v-160H620v160Z\"/>\n",
              "  </svg>\n",
              "    </button>\n",
              "\n",
              "  <style>\n",
              "    .colab-df-container {\n",
              "      display:flex;\n",
              "      gap: 12px;\n",
              "    }\n",
              "\n",
              "    .colab-df-convert {\n",
              "      background-color: #E8F0FE;\n",
              "      border: none;\n",
              "      border-radius: 50%;\n",
              "      cursor: pointer;\n",
              "      display: none;\n",
              "      fill: #1967D2;\n",
              "      height: 32px;\n",
              "      padding: 0 0 0 0;\n",
              "      width: 32px;\n",
              "    }\n",
              "\n",
              "    .colab-df-convert:hover {\n",
              "      background-color: #E2EBFA;\n",
              "      box-shadow: 0px 1px 2px rgba(60, 64, 67, 0.3), 0px 1px 3px 1px rgba(60, 64, 67, 0.15);\n",
              "      fill: #174EA6;\n",
              "    }\n",
              "\n",
              "    .colab-df-buttons div {\n",
              "      margin-bottom: 4px;\n",
              "    }\n",
              "\n",
              "    [theme=dark] .colab-df-convert {\n",
              "      background-color: #3B4455;\n",
              "      fill: #D2E3FC;\n",
              "    }\n",
              "\n",
              "    [theme=dark] .colab-df-convert:hover {\n",
              "      background-color: #434B5C;\n",
              "      box-shadow: 0px 1px 3px 1px rgba(0, 0, 0, 0.15);\n",
              "      filter: drop-shadow(0px 1px 2px rgba(0, 0, 0, 0.3));\n",
              "      fill: #FFFFFF;\n",
              "    }\n",
              "  </style>\n",
              "\n",
              "    <script>\n",
              "      const buttonEl =\n",
              "        document.querySelector('#df-c35642f7-f09e-44ec-8fb1-5f90536bddea button.colab-df-convert');\n",
              "      buttonEl.style.display =\n",
              "        google.colab.kernel.accessAllowed ? 'block' : 'none';\n",
              "\n",
              "      async function convertToInteractive(key) {\n",
              "        const element = document.querySelector('#df-c35642f7-f09e-44ec-8fb1-5f90536bddea');\n",
              "        const dataTable =\n",
              "          await google.colab.kernel.invokeFunction('convertToInteractive',\n",
              "                                                    [key], {});\n",
              "        if (!dataTable) return;\n",
              "\n",
              "        const docLinkHtml = 'Like what you see? Visit the ' +\n",
              "          '<a target=\"_blank\" href=https://colab.research.google.com/notebooks/data_table.ipynb>data table notebook</a>'\n",
              "          + ' to learn more about interactive tables.';\n",
              "        element.innerHTML = '';\n",
              "        dataTable['output_type'] = 'display_data';\n",
              "        await google.colab.output.renderOutput(dataTable, element);\n",
              "        const docLink = document.createElement('div');\n",
              "        docLink.innerHTML = docLinkHtml;\n",
              "        element.appendChild(docLink);\n",
              "      }\n",
              "    </script>\n",
              "  </div>\n",
              "\n",
              "\n",
              "<div id=\"df-f774beb0-2616-49b4-93d8-0ce12221f4d0\">\n",
              "  <button class=\"colab-df-quickchart\" onclick=\"quickchart('df-f774beb0-2616-49b4-93d8-0ce12221f4d0')\"\n",
              "            title=\"Suggest charts\"\n",
              "            style=\"display:none;\">\n",
              "\n",
              "<svg xmlns=\"http://www.w3.org/2000/svg\" height=\"24px\"viewBox=\"0 0 24 24\"\n",
              "     width=\"24px\">\n",
              "    <g>\n",
              "        <path d=\"M19 3H5c-1.1 0-2 .9-2 2v14c0 1.1.9 2 2 2h14c1.1 0 2-.9 2-2V5c0-1.1-.9-2-2-2zM9 17H7v-7h2v7zm4 0h-2V7h2v10zm4 0h-2v-4h2v4z\"/>\n",
              "    </g>\n",
              "</svg>\n",
              "  </button>\n",
              "\n",
              "<style>\n",
              "  .colab-df-quickchart {\n",
              "      --bg-color: #E8F0FE;\n",
              "      --fill-color: #1967D2;\n",
              "      --hover-bg-color: #E2EBFA;\n",
              "      --hover-fill-color: #174EA6;\n",
              "      --disabled-fill-color: #AAA;\n",
              "      --disabled-bg-color: #DDD;\n",
              "  }\n",
              "\n",
              "  [theme=dark] .colab-df-quickchart {\n",
              "      --bg-color: #3B4455;\n",
              "      --fill-color: #D2E3FC;\n",
              "      --hover-bg-color: #434B5C;\n",
              "      --hover-fill-color: #FFFFFF;\n",
              "      --disabled-bg-color: #3B4455;\n",
              "      --disabled-fill-color: #666;\n",
              "  }\n",
              "\n",
              "  .colab-df-quickchart {\n",
              "    background-color: var(--bg-color);\n",
              "    border: none;\n",
              "    border-radius: 50%;\n",
              "    cursor: pointer;\n",
              "    display: none;\n",
              "    fill: var(--fill-color);\n",
              "    height: 32px;\n",
              "    padding: 0;\n",
              "    width: 32px;\n",
              "  }\n",
              "\n",
              "  .colab-df-quickchart:hover {\n",
              "    background-color: var(--hover-bg-color);\n",
              "    box-shadow: 0 1px 2px rgba(60, 64, 67, 0.3), 0 1px 3px 1px rgba(60, 64, 67, 0.15);\n",
              "    fill: var(--button-hover-fill-color);\n",
              "  }\n",
              "\n",
              "  .colab-df-quickchart-complete:disabled,\n",
              "  .colab-df-quickchart-complete:disabled:hover {\n",
              "    background-color: var(--disabled-bg-color);\n",
              "    fill: var(--disabled-fill-color);\n",
              "    box-shadow: none;\n",
              "  }\n",
              "\n",
              "  .colab-df-spinner {\n",
              "    border: 2px solid var(--fill-color);\n",
              "    border-color: transparent;\n",
              "    border-bottom-color: var(--fill-color);\n",
              "    animation:\n",
              "      spin 1s steps(1) infinite;\n",
              "  }\n",
              "\n",
              "  @keyframes spin {\n",
              "    0% {\n",
              "      border-color: transparent;\n",
              "      border-bottom-color: var(--fill-color);\n",
              "      border-left-color: var(--fill-color);\n",
              "    }\n",
              "    20% {\n",
              "      border-color: transparent;\n",
              "      border-left-color: var(--fill-color);\n",
              "      border-top-color: var(--fill-color);\n",
              "    }\n",
              "    30% {\n",
              "      border-color: transparent;\n",
              "      border-left-color: var(--fill-color);\n",
              "      border-top-color: var(--fill-color);\n",
              "      border-right-color: var(--fill-color);\n",
              "    }\n",
              "    40% {\n",
              "      border-color: transparent;\n",
              "      border-right-color: var(--fill-color);\n",
              "      border-top-color: var(--fill-color);\n",
              "    }\n",
              "    60% {\n",
              "      border-color: transparent;\n",
              "      border-right-color: var(--fill-color);\n",
              "    }\n",
              "    80% {\n",
              "      border-color: transparent;\n",
              "      border-right-color: var(--fill-color);\n",
              "      border-bottom-color: var(--fill-color);\n",
              "    }\n",
              "    90% {\n",
              "      border-color: transparent;\n",
              "      border-bottom-color: var(--fill-color);\n",
              "    }\n",
              "  }\n",
              "</style>\n",
              "\n",
              "  <script>\n",
              "    async function quickchart(key) {\n",
              "      const quickchartButtonEl =\n",
              "        document.querySelector('#' + key + ' button');\n",
              "      quickchartButtonEl.disabled = true;  // To prevent multiple clicks.\n",
              "      quickchartButtonEl.classList.add('colab-df-spinner');\n",
              "      try {\n",
              "        const charts = await google.colab.kernel.invokeFunction(\n",
              "            'suggestCharts', [key], {});\n",
              "      } catch (error) {\n",
              "        console.error('Error during call to suggestCharts:', error);\n",
              "      }\n",
              "      quickchartButtonEl.classList.remove('colab-df-spinner');\n",
              "      quickchartButtonEl.classList.add('colab-df-quickchart-complete');\n",
              "    }\n",
              "    (() => {\n",
              "      let quickchartButtonEl =\n",
              "        document.querySelector('#df-f774beb0-2616-49b4-93d8-0ce12221f4d0 button');\n",
              "      quickchartButtonEl.style.display =\n",
              "        google.colab.kernel.accessAllowed ? 'block' : 'none';\n",
              "    })();\n",
              "  </script>\n",
              "</div>\n",
              "\n",
              "    </div>\n",
              "  </div>\n"
            ],
            "application/vnd.google.colaboratory.intrinsic+json": {
              "type": "dataframe",
              "summary": "{\n  \"name\": \"df\",\n  \"rows\": 8,\n  \"fields\": [\n    {\n      \"column\": \"Seats\",\n      \"properties\": {\n        \"dtype\": \"number\",\n        \"std\": 53.51533077152769,\n        \"min\": 1.018440397702515,\n        \"max\": 156.0,\n        \"num_unique_values\": 7,\n        \"samples\": [\n          156.0,\n          5.538461538461538,\n          6.0\n        ],\n        \"semantic_type\": \"\",\n        \"description\": \"\"\n      }\n    },\n    {\n      \"column\": \"Displacement\",\n      \"properties\": {\n        \"dtype\": \"number\",\n        \"std\": 1127.6470180811284,\n        \"min\": 155.0,\n        \"max\": 3799.0,\n        \"num_unique_values\": 8,\n        \"samples\": [\n          1598.1096774193547,\n          1493.0,\n          155.0\n        ],\n        \"semantic_type\": \"\",\n        \"description\": \"\"\n      }\n    },\n    {\n      \"column\": \"Length\",\n      \"properties\": {\n        \"dtype\": \"number\",\n        \"std\": 1944.0434676625782,\n        \"min\": 156.0,\n        \"max\": 5115.0,\n        \"num_unique_values\": 8,\n        \"samples\": [\n          4324.455128205128,\n          4315.0,\n          156.0\n        ],\n        \"semantic_type\": \"\",\n        \"description\": \"\"\n      }\n    },\n    {\n      \"column\": \"Width\",\n      \"properties\": {\n        \"dtype\": \"number\",\n        \"std\": 797.7792748608267,\n        \"min\": 79.05045242199702,\n        \"max\": 2099.0,\n        \"num_unique_values\": 8,\n        \"samples\": [\n          1800.5128205128206,\n          1790.0,\n          156.0\n        ],\n        \"semantic_type\": \"\",\n        \"description\": \"\"\n      }\n    },\n    {\n      \"column\": \"Height\",\n      \"properties\": {\n        \"dtype\": \"number\",\n        \"std\": 724.5163811165838,\n        \"min\": 125.17055890745357,\n        \"max\": 1995.0,\n        \"num_unique_values\": 8,\n        \"samples\": [\n          1653.6666666666667,\n          1631.0,\n          156.0\n        ],\n        \"semantic_type\": \"\",\n        \"description\": \"\"\n      }\n    },\n    {\n      \"column\": \"Wheelbase\",\n      \"properties\": {\n        \"dtype\": \"number\",\n        \"std\": 1182.1813625531984,\n        \"min\": 128.2283723180185,\n        \"max\": 3060.0,\n        \"num_unique_values\": 8,\n        \"samples\": [\n          2633.358974358974,\n          2610.0,\n          156.0\n        ],\n        \"semantic_type\": \"\",\n        \"description\": \"\"\n      }\n    },\n    {\n      \"column\": \"No_of_Cylinders\",\n      \"properties\": {\n        \"dtype\": \"number\",\n        \"std\": 53.54755686205752,\n        \"min\": 0.38996632254451663,\n        \"max\": 155.0,\n        \"num_unique_values\": 6,\n        \"samples\": [\n          155.0,\n          3.870967741935484,\n          6.0\n        ],\n        \"semantic_type\": \"\",\n        \"description\": \"\"\n      }\n    },\n    {\n      \"column\": \"Turning Radius\",\n      \"properties\": {\n        \"dtype\": \"number\",\n        \"std\": 46.8674007588807,\n        \"min\": 0.2841813851790209,\n        \"max\": 137.0,\n        \"num_unique_values\": 8,\n        \"samples\": [\n          5.2470802919708035,\n          5.2,\n          137.0\n        ],\n        \"semantic_type\": \"\",\n        \"description\": \"\"\n      }\n    },\n    {\n      \"column\": \"Fuel Tank Capacity\",\n      \"properties\": {\n        \"dtype\": \"number\",\n        \"std\": 43.87176298796754,\n        \"min\": 10.997814651336551,\n        \"max\": 155.0,\n        \"num_unique_values\": 8,\n        \"samples\": [\n          48.725806451612904,\n          50.0,\n          155.0\n        ],\n        \"semantic_type\": \"\",\n        \"description\": \"\"\n      }\n    },\n    {\n      \"column\": \"Boot Space\",\n      \"properties\": {\n        \"dtype\": \"number\",\n        \"std\": 175.70173674732493,\n        \"min\": 105.01595092813966,\n        \"max\": 625.0,\n        \"num_unique_values\": 8,\n        \"samples\": [\n          377.6737588652482,\n          392.0,\n          141.0\n        ],\n        \"semantic_type\": \"\",\n        \"description\": \"\"\n      }\n    },\n    {\n      \"column\": \"Fuel Efficiency\",\n      \"properties\": {\n        \"dtype\": \"number\",\n        \"std\": 41.976916700677236,\n        \"min\": 3.2737232679454933,\n        \"max\": 133.0,\n        \"num_unique_values\": 8,\n        \"samples\": [\n          18.028947368421054,\n          18.1,\n          133.0\n        ],\n        \"semantic_type\": \"\",\n        \"description\": \"\"\n      }\n    },\n    {\n      \"column\": \"Variants\",\n      \"properties\": {\n        \"dtype\": \"number\",\n        \"std\": 53.871271670531236,\n        \"min\": 1.0,\n        \"max\": 156.0,\n        \"num_unique_values\": 7,\n        \"samples\": [\n          156.0,\n          2.871794871794872,\n          3.0\n        ],\n        \"semantic_type\": \"\",\n        \"description\": \"\"\n      }\n    }\n  ]\n}"
            }
          },
          "metadata": {},
          "execution_count": 87
        }
      ]
    },
    {
      "cell_type": "markdown",
      "source": [
        "# Pré-Processamento de Dados\n",
        "## Tratamento dos dados\n",
        "Antes de preencher valores faltantes, divida seus dados em conjuntos de treino e teste. Calcule estatísticas apenas no conjunto de treino e use-as para preencher os valores faltantes em ambos os conjuntos. Isso impede vazamento de informações do teste para o treino.\n",
        "\n",
        "Materiais de apoio:\n",
        "- https://scikit-learn.org/stable/modules/generated/sklearn.model_selection.train_test_split.html\n",
        "- https://www.freecodecamp.org/news/data-cleaning-and-preprocessing-with-pandasbdvhj/#how-to-handle-missing-values\n",
        "- https://scikit-learn.org/stable/common_pitfalls.html\n",
        "\n"
      ],
      "metadata": {
        "id": "-mwnQu8QKqWh"
      }
    },
    {
      "cell_type": "code",
      "source": [
        "from sklearn.model_selection import train_test_split\n",
        "\n",
        "X_columns = ['Maker', 'Type', 'Seats', 'Displacement', 'Length', 'Width',\n",
        "       'Height', 'Wheelbase', 'No_of_Cylinders', 'Fuel', 'Engine Type',\n",
        "       'Transmission', 'Front Brake', 'Rear Brake', 'Drive', 'Turning Radius',\n",
        "       'Fuel Tank Capacity', 'Boot Space', 'Fuel Efficiency', 'Emission Type',\n",
        "       'Tyre Size', 'Variants', 'NCAP Rating']\n",
        "y_columns = ['Model']\n",
        "X = df[X_columns]\n",
        "y = df[y_columns]\n",
        "\n",
        "X_train, x_test, y_train, y_test = train_test_split(X, y, test_size=0.3, random_state=101)"
      ],
      "metadata": {
        "id": "3qsR6wMmLgO5"
      },
      "execution_count": 88,
      "outputs": []
    },
    {
      "cell_type": "markdown",
      "source": [
        "Verificando se existem linhas duplicadas para serem removidas, pois podem distorcer a análise, influenciando os resultados."
      ],
      "metadata": {
        "id": "gD9h2QqYtoxB"
      }
    },
    {
      "cell_type": "code",
      "source": [
        "X_train.duplicated().sum()\n",
        "x_test.duplicated().sum()\n",
        "# df_no_duplicates = df.drop_duplicates()"
      ],
      "metadata": {
        "colab": {
          "base_uri": "https://localhost:8080/"
        },
        "id": "szb5aLL-MhPG",
        "outputId": "abd2581b-b6cd-495d-cc5a-e1da68e61370"
      },
      "execution_count": 89,
      "outputs": [
        {
          "output_type": "execute_result",
          "data": {
            "text/plain": [
              "0"
            ]
          },
          "metadata": {},
          "execution_count": 89
        }
      ]
    },
    {
      "cell_type": "code",
      "source": [
        "# Tratando dados faltantes\n",
        "X_train.isnull().sum()"
      ],
      "metadata": {
        "colab": {
          "base_uri": "https://localhost:8080/"
        },
        "id": "GlzvPzOOlJEc",
        "outputId": "8aa93870-4e09-4fdb-e3c1-17309985333d"
      },
      "execution_count": 90,
      "outputs": [
        {
          "output_type": "execute_result",
          "data": {
            "text/plain": [
              "Maker                  0\n",
              "Type                   0\n",
              "Seats                  0\n",
              "Displacement           1\n",
              "Length                 0\n",
              "Width                  0\n",
              "Height                 0\n",
              "Wheelbase              0\n",
              "No_of_Cylinders        1\n",
              "Fuel                   0\n",
              "Engine Type            0\n",
              "Transmission           1\n",
              "Front Brake            0\n",
              "Rear Brake             0\n",
              "Drive                  0\n",
              "Turning Radius        13\n",
              "Fuel Tank Capacity     1\n",
              "Boot Space            10\n",
              "Fuel Efficiency       17\n",
              "Emission Type          1\n",
              "Tyre Size              0\n",
              "Variants               0\n",
              "NCAP Rating            0\n",
              "dtype: int64"
            ]
          },
          "metadata": {},
          "execution_count": 90
        }
      ]
    },
    {
      "cell_type": "markdown",
      "source": [
        "Se apenas algumas linhas em uma coluna estão faltando, remover essas linhas pode ser a abordagem mais simples e prática. Pois não deve afetar significativamente a análise. Então minha estratégia será para quando tiver apenas um valor faltante removê-las.\n",
        "\n",
        "Já quando há muitas linhas com valores faltantes faço um tratamento mais elaborado:\n",
        "- Para colunas categóricas, preencher com a moda (o valor mais frequente)\n",
        "- Para colunas numéricas contínuas, a média ou a moda dependendo do significado da coluna\n",
        "\n",
        "Então devemos analisar, quais colunas numéricas aplicamos a média e qual a moda:"
      ],
      "metadata": {
        "id": "ieorW_soLBh2"
      }
    },
    {
      "cell_type": "code",
      "source": [
        "df.select_dtypes(include=['number']).columns.tolist()"
      ],
      "metadata": {
        "colab": {
          "base_uri": "https://localhost:8080/"
        },
        "id": "aqZiyCtbOyhP",
        "outputId": "247dfec2-f989-48f8-af83-04fa57905508"
      },
      "execution_count": 91,
      "outputs": [
        {
          "output_type": "execute_result",
          "data": {
            "text/plain": [
              "['Seats',\n",
              " 'Displacement',\n",
              " 'Length',\n",
              " 'Width',\n",
              " 'Height',\n",
              " 'Wheelbase',\n",
              " 'No_of_Cylinders',\n",
              " 'Turning Radius',\n",
              " 'Fuel Tank Capacity',\n",
              " 'Boot Space',\n",
              " 'Fuel Efficiency',\n",
              " 'Variants']"
            ]
          },
          "metadata": {},
          "execution_count": 91
        }
      ]
    },
    {
      "cell_type": "code",
      "source": [
        "categorias = ['Seats', 'Displacement', 'Length', 'Width', 'Height',\n",
        "    'Wheelbase', 'No_of_Cylinders', 'Turning Radius',\n",
        "    'Fuel Tank Capacity', 'Boot Space', 'Fuel Efficiency', 'Variants']\n",
        "\n",
        "for categoria in categorias:\n",
        "    if categoria in df.columns:\n",
        "        print(f\"Value counts for '{categoria}':\")\n",
        "        print(df[categoria].value_counts())\n",
        "        print(\"\\n\")"
      ],
      "metadata": {
        "colab": {
          "base_uri": "https://localhost:8080/"
        },
        "id": "Idtj8LUaPZdD",
        "outputId": "33df9080-c762-4a83-95ea-a2b9e0811106"
      },
      "execution_count": 92,
      "outputs": [
        {
          "output_type": "stream",
          "name": "stdout",
          "text": [
            "Value counts for 'Seats':\n",
            "Seats\n",
            "5    98\n",
            "7    34\n",
            "6    14\n",
            "4     6\n",
            "9     2\n",
            "2     1\n",
            "8     1\n",
            "Name: count, dtype: int64\n",
            "\n",
            "\n",
            "Value counts for 'Displacement':\n",
            "Displacement\n",
            "1493.0    19\n",
            "999.0     15\n",
            "2000.0    14\n",
            "1197.0    14\n",
            "1497.0    12\n",
            "998.0     11\n",
            "1498.0    11\n",
            "1353.0     7\n",
            "2755.0     6\n",
            "1956.0     6\n",
            "1997.0     6\n",
            "1199.0     6\n",
            "2200.0     5\n",
            "1999.0     5\n",
            "2184.0     5\n",
            "2199.0     3\n",
            "1462.0     2\n",
            "2694.0     2\n",
            "1330.0     2\n",
            "1198.0     1\n",
            "799.0      1\n",
            "3799.0     1\n",
            "1984.0     1\n",
            "Name: count, dtype: int64\n",
            "\n",
            "\n",
            "Value counts for 'Length':\n",
            "Length\n",
            "3995    31\n",
            "4662    10\n",
            "4500     9\n",
            "4695     9\n",
            "4540     8\n",
            "4315     8\n",
            "4795     8\n",
            "4440     6\n",
            "3985     6\n",
            "3991     6\n",
            "4300     5\n",
            "3805     4\n",
            "4221     4\n",
            "4661     4\n",
            "4549     4\n",
            "4561     3\n",
            "4630     3\n",
            "5115     3\n",
            "3994     3\n",
            "4384     3\n",
            "3731     3\n",
            "4598     2\n",
            "3999     2\n",
            "3981     2\n",
            "3990     2\n",
            "4456     2\n",
            "3989     2\n",
            "4180     1\n",
            "4710     1\n",
            "4585     1\n",
            "4509     1\n",
            "Name: count, dtype: int64\n",
            "\n",
            "\n",
            "Value counts for 'Width':\n",
            "Width\n",
            "1790    20\n",
            "1800    17\n",
            "1855    12\n",
            "1917    10\n",
            "1890     9\n",
            "1680     8\n",
            "1775     7\n",
            "1894     6\n",
            "1770     5\n",
            "1729     5\n",
            "1695     5\n",
            "1748     4\n",
            "1750     4\n",
            "1760     4\n",
            "1820     4\n",
            "1821     4\n",
            "1813     3\n",
            "1985     3\n",
            "1865     3\n",
            "1752     3\n",
            "1758     3\n",
            "1579     3\n",
            "1694     2\n",
            "1734     2\n",
            "1745     2\n",
            "1733     2\n",
            "1739     2\n",
            "1866     1\n",
            "2099     1\n",
            "1839     1\n",
            "1895     1\n",
            "Name: count, dtype: int64\n",
            "\n",
            "\n",
            "Value counts for 'Height':\n",
            "Height\n",
            "1857    10\n",
            "1755     9\n",
            "1708     8\n",
            "1620     8\n",
            "1675     8\n",
            "1520     8\n",
            "1835     8\n",
            "1505     7\n",
            "1844     6\n",
            "1610     5\n",
            "1635     5\n",
            "1617     5\n",
            "1475     5\n",
            "1627     4\n",
            "1612     4\n",
            "1786     4\n",
            "1605     4\n",
            "1665     4\n",
            "1501     4\n",
            "1489     4\n",
            "1669     3\n",
            "1740     3\n",
            "1572     3\n",
            "1507     3\n",
            "1490     3\n",
            "1500     2\n",
            "1640     2\n",
            "1995     2\n",
            "1544     2\n",
            "1601     2\n",
            "1643     2\n",
            "1604     2\n",
            "1706     2\n",
            "1370     1\n",
            "1570     1\n",
            "1495     1\n",
            "1774     1\n",
            "1710     1\n",
            "Name: count, dtype: int64\n",
            "\n",
            "\n",
            "Value counts for 'Wheelbase':\n",
            "Wheelbase\n",
            "2750    19\n",
            "2500    19\n",
            "2600    15\n",
            "2450    14\n",
            "2610    13\n",
            "2780     9\n",
            "2760     9\n",
            "2745     8\n",
            "2651     7\n",
            "2580     7\n",
            "2741     6\n",
            "2470     4\n",
            "2422     3\n",
            "2673     3\n",
            "2755     3\n",
            "3060     3\n",
            "2540     2\n",
            "2680     2\n",
            "2636     2\n",
            "2530     2\n",
            "2520     2\n",
            "2555     2\n",
            "2679     1\n",
            "2730     1\n",
            "Name: count, dtype: int64\n",
            "\n",
            "\n",
            "Value counts for 'No_of_Cylinders':\n",
            "No_of_Cylinders\n",
            "4.0    132\n",
            "3.0     22\n",
            "6.0      1\n",
            "Name: count, dtype: int64\n",
            "\n",
            "\n",
            "Value counts for 'Turning Radius':\n",
            "Turning Radius\n",
            "5.30    33\n",
            "5.10    20\n",
            "5.20    17\n",
            "5.80    15\n",
            "5.05     7\n",
            "5.25     7\n",
            "4.70     6\n",
            "4.90     6\n",
            "5.00     6\n",
            "5.40     4\n",
            "5.02     4\n",
            "5.90     3\n",
            "4.98     2\n",
            "4.85     2\n",
            "5.75     2\n",
            "5.35     1\n",
            "5.39     1\n",
            "5.57     1\n",
            "Name: count, dtype: int64\n",
            "\n",
            "\n",
            "Value counts for 'Fuel Tank Capacity':\n",
            "Fuel Tank Capacity\n",
            "50.0    34\n",
            "45.0    27\n",
            "40.0    18\n",
            "37.0    17\n",
            "57.0    16\n",
            "60.0    15\n",
            "80.0     8\n",
            "35.0     4\n",
            "42.0     4\n",
            "28.0     3\n",
            "54.0     3\n",
            "30.0     2\n",
            "48.0     2\n",
            "74.0     1\n",
            "52.5     1\n",
            "Name: count, dtype: int64\n",
            "\n",
            "\n",
            "Value counts for 'Boot Space':\n",
            "Boot Space\n",
            "433.0    13\n",
            "460.0    12\n",
            "216.0     8\n",
            "180.0     8\n",
            "296.0     8\n",
            "326.0     7\n",
            "540.0     6\n",
            "392.0     5\n",
            "350.0     5\n",
            "480.0     5\n",
            "257.0     4\n",
            "402.0     4\n",
            "260.0     4\n",
            "385.0     4\n",
            "447.0     4\n",
            "405.0     4\n",
            "420.0     4\n",
            "506.0     4\n",
            "400.0     3\n",
            "315.0     3\n",
            "336.0     3\n",
            "521.0     3\n",
            "279.0     3\n",
            "318.0     2\n",
            "625.0     2\n",
            "354.0     2\n",
            "363.0     2\n",
            "328.0     2\n",
            "425.0     2\n",
            "190.0     1\n",
            "332.0     1\n",
            "510.0     1\n",
            "616.0     1\n",
            "580.0     1\n",
            "Name: count, dtype: int64\n",
            "\n",
            "\n",
            "Value counts for 'Fuel Efficiency':\n",
            "Fuel Efficiency\n",
            "14.20    9\n",
            "21.00    8\n",
            "16.50    7\n",
            "15.20    5\n",
            "20.25    4\n",
            "        ..\n",
            "14.40    1\n",
            "22.35    1\n",
            "22.94    1\n",
            "20.35    1\n",
            "19.65    1\n",
            "Name: count, Length: 70, dtype: int64\n",
            "\n",
            "\n",
            "Value counts for 'Variants':\n",
            "Variants\n",
            "2     51\n",
            "1     40\n",
            "3     29\n",
            "4     19\n",
            "5     10\n",
            "6      2\n",
            "17     2\n",
            "20     2\n",
            "7      1\n",
            "Name: count, dtype: int64\n",
            "\n",
            "\n"
          ]
        }
      ]
    },
    {
      "cell_type": "markdown",
      "source": [
        "Geralmente a moda é aplicada para colunas que contêm poucos valores distintos, logo aplicarei para: Seats, No_of_Cylinders e Variants"
      ],
      "metadata": {
        "id": "kVpFlUgWRICi"
      }
    },
    {
      "cell_type": "markdown",
      "source": [
        "Além disso, ao analisar as colunas percebemos que Front Brake possui valores constantes em todas as linhas (não se altera). Então irei optar por removê-la do dataset."
      ],
      "metadata": {
        "id": "jqhamrpeZte9"
      }
    },
    {
      "cell_type": "markdown",
      "source": [
        "Como quando recebemos dados novos temos que ser capaz de fazer o mesmo processamento, logo criei uma função que faz esse processamento de preencher os dados:"
      ],
      "metadata": {
        "id": "QtQEmI5cN-7b"
      }
    },
    {
      "cell_type": "code",
      "source": [
        "def preprocess_data(x_train, y_train, x_test, y_test):\n",
        "\n",
        "  # excluindo linhas com apenas um valor nulo em TREINO\n",
        "  null_counts = x_train.isnull().sum()\n",
        "  columns_with_one_null = null_counts[null_counts == 1]\n",
        "  x_train = x_train.dropna(subset=columns_with_one_null.index)\n",
        "  y_train = y_train.loc[x_train.index]\n",
        "\n",
        "  # excluindo linhas com o mesmo critério em TESTE\n",
        "  null_counts = x_test.isnull().sum()\n",
        "  columns_with_one_null = null_counts[null_counts == 1]\n",
        "  x_test = x_test.dropna(subset=columns_with_one_null.index)\n",
        "  y_test = y_test.loc[x_test.index]\n",
        "\n",
        "  # calculando média ou moda para outras colunas com mais valores nulos\n",
        "  columns_with_null = null_counts[null_counts != 1]\n",
        "  for column in columns_with_null.index:\n",
        "      # colunas categóricas com a moda\n",
        "      if x_train[column].dtype == 'object':\n",
        "          mode = x_train[column].mode()[0]\n",
        "          x_train[column].fillna(mode, inplace=True)\n",
        "          x_test[column].fillna(mode, inplace=True)\n",
        "\n",
        "      # colunas numéricas\n",
        "      else:\n",
        "          if column in ['Seats', 'No_of_Cylinders', 'Variants']:\n",
        "            mode = x_train[column].mode()[0]\n",
        "            x_train[column].fillna(mode, inplace=True)\n",
        "            x_test[column].fillna(mode, inplace=True)\n",
        "          else:\n",
        "            mean = x_train[column].mean()\n",
        "            x_train[column].fillna(mean, inplace=True)\n",
        "            x_test[column].fillna(mean, inplace=True)\n",
        "\n",
        "  # Excluindo a coluna \"Front Brake\" de ambos os conjuntos\n",
        "  x_train = x_train.drop(columns=['Front Brake'])\n",
        "  x_test = x_test.drop(columns=['Front Brake'])\n",
        "\n",
        "  return x_train, y_train, x_test, y_test"
      ],
      "metadata": {
        "id": "cjC4NM4Ymb6A"
      },
      "execution_count": 93,
      "outputs": []
    },
    {
      "cell_type": "code",
      "source": [
        "X_train, y_train, x_test, y_test = preprocess_data(X_train, y_train, x_test, y_test)"
      ],
      "metadata": {
        "colab": {
          "base_uri": "https://localhost:8080/"
        },
        "id": "jqTltB2aRfsH",
        "outputId": "33d3bf24-62a2-49f3-8968-c730d5df29d7"
      },
      "execution_count": 94,
      "outputs": [
        {
          "output_type": "stream",
          "name": "stderr",
          "text": [
            "<ipython-input-93-282800913bab>:21: SettingWithCopyWarning: \n",
            "A value is trying to be set on a copy of a slice from a DataFrame\n",
            "\n",
            "See the caveats in the documentation: https://pandas.pydata.org/pandas-docs/stable/user_guide/indexing.html#returning-a-view-versus-a-copy\n",
            "  x_train[column].fillna(mode, inplace=True)\n",
            "<ipython-input-93-282800913bab>:28: SettingWithCopyWarning: \n",
            "A value is trying to be set on a copy of a slice from a DataFrame\n",
            "\n",
            "See the caveats in the documentation: https://pandas.pydata.org/pandas-docs/stable/user_guide/indexing.html#returning-a-view-versus-a-copy\n",
            "  x_train[column].fillna(mode, inplace=True)\n",
            "<ipython-input-93-282800913bab>:32: SettingWithCopyWarning: \n",
            "A value is trying to be set on a copy of a slice from a DataFrame\n",
            "\n",
            "See the caveats in the documentation: https://pandas.pydata.org/pandas-docs/stable/user_guide/indexing.html#returning-a-view-versus-a-copy\n",
            "  x_train[column].fillna(mean, inplace=True)\n"
          ]
        }
      ]
    },
    {
      "cell_type": "code",
      "source": [
        "X_train.isnull().sum()"
      ],
      "metadata": {
        "colab": {
          "base_uri": "https://localhost:8080/"
        },
        "id": "9T_ps1YJNlwj",
        "outputId": "d893fe19-df36-47b9-f2a6-aac33f857ecb"
      },
      "execution_count": 95,
      "outputs": [
        {
          "output_type": "execute_result",
          "data": {
            "text/plain": [
              "Maker                 0\n",
              "Type                  0\n",
              "Seats                 0\n",
              "Displacement          0\n",
              "Length                0\n",
              "Width                 0\n",
              "Height                0\n",
              "Wheelbase             0\n",
              "No_of_Cylinders       0\n",
              "Fuel                  0\n",
              "Engine Type           0\n",
              "Transmission          0\n",
              "Rear Brake            0\n",
              "Drive                 0\n",
              "Turning Radius        0\n",
              "Fuel Tank Capacity    0\n",
              "Boot Space            0\n",
              "Fuel Efficiency       0\n",
              "Emission Type         0\n",
              "Tyre Size             0\n",
              "Variants              0\n",
              "NCAP Rating           0\n",
              "dtype: int64"
            ]
          },
          "metadata": {},
          "execution_count": 95
        }
      ]
    },
    {
      "cell_type": "code",
      "source": [
        "x_test.isnull().sum()"
      ],
      "metadata": {
        "colab": {
          "base_uri": "https://localhost:8080/"
        },
        "id": "sdEf2d9nTMqy",
        "outputId": "d0294d0d-5240-4b61-e645-460659f3d7b9"
      },
      "execution_count": 96,
      "outputs": [
        {
          "output_type": "execute_result",
          "data": {
            "text/plain": [
              "Maker                 0\n",
              "Type                  0\n",
              "Seats                 0\n",
              "Displacement          0\n",
              "Length                0\n",
              "Width                 0\n",
              "Height                0\n",
              "Wheelbase             0\n",
              "No_of_Cylinders       0\n",
              "Fuel                  0\n",
              "Engine Type           0\n",
              "Transmission          0\n",
              "Rear Brake            0\n",
              "Drive                 0\n",
              "Turning Radius        0\n",
              "Fuel Tank Capacity    0\n",
              "Boot Space            0\n",
              "Fuel Efficiency       0\n",
              "Emission Type         0\n",
              "Tyre Size             0\n",
              "Variants              0\n",
              "NCAP Rating           0\n",
              "dtype: int64"
            ]
          },
          "metadata": {},
          "execution_count": 96
        }
      ]
    },
    {
      "cell_type": "markdown",
      "source": [
        "## Transformação dos dados\n",
        "Novamente, deve-se tomar cuidado com o vazamento de dados. O último link fornecido aqui demonstra como realizar transformações sem ocorrer vazamento de dados.\n",
        "\n",
        "Material de apoio:\n",
        "- https://medium.com/@meritshot/standardization-v-s-normalization-6f93225fbd84#:~:text=Standardization%2C%20interestingly%2C%20refers%20to%20setting,data%20onto%20the%20unit%20sphere.\n",
        "- https://www.shiksha.com/online-courses/articles/normalization-and-standardization/\n",
        "- https://scikit-learn.org/stable/modules/generated/sklearn.preprocessing.MinMaxScaler.html\n",
        "- https://scikit-learn.org/stable/modules/generated/sklearn.preprocessing.StandardScaler.html\n",
        "- https://machinelearningmastery.com/data-preparation-without-data-leakage/"
      ],
      "metadata": {
        "id": "Ie5sCP5nmvJY"
      }
    },
    {
      "cell_type": "markdown",
      "source": [
        "É interessante verificar os tipos de dados das colunas e converter quando necessário para garantir que os dados estejam no formato correto e sejam processados adequadamente."
      ],
      "metadata": {
        "id": "vNSZWfTRNuCu"
      }
    },
    {
      "cell_type": "code",
      "source": [
        "df.dtypes"
      ],
      "metadata": {
        "colab": {
          "base_uri": "https://localhost:8080/"
        },
        "id": "TB611gNoO2VH",
        "outputId": "453e4362-dec5-4f9e-9367-3c1c54360fe4"
      },
      "execution_count": 97,
      "outputs": [
        {
          "output_type": "execute_result",
          "data": {
            "text/plain": [
              "Model                  object\n",
              "Maker                  object\n",
              "Type                   object\n",
              "Seats                   int64\n",
              "Displacement          float64\n",
              "Length                  int64\n",
              "Width                   int64\n",
              "Height                  int64\n",
              "Wheelbase               int64\n",
              "No_of_Cylinders       float64\n",
              "Fuel                   object\n",
              "Engine Type            object\n",
              "Transmission           object\n",
              "Front Brake            object\n",
              "Rear Brake             object\n",
              "Drive                  object\n",
              "Turning Radius        float64\n",
              "Fuel Tank Capacity    float64\n",
              "Boot Space            float64\n",
              "Fuel Efficiency       float64\n",
              "Emission Type          object\n",
              "Tyre Size              object\n",
              "Variants                int64\n",
              "NCAP Rating            object\n",
              "dtype: object"
            ]
          },
          "metadata": {},
          "execution_count": 97
        }
      ]
    },
    {
      "cell_type": "markdown",
      "source": [
        "Devemos converter variáveis categóricas em numéricas para que os algoritmos possam processá-las:"
      ],
      "metadata": {
        "id": "nXqFYLGkVdgs"
      }
    },
    {
      "cell_type": "code",
      "source": [
        "def data_transformation(df):\n",
        "\n",
        "  #convertendo tipo de dados float e int\n",
        "  for column in df.columns:\n",
        "    if df[column].dtype == 'float64' and column in ['No_of_Cylinders']:\n",
        "      df[column] = df[column].astype('int64')\n",
        "    if df[column].dtype == 'int64' and column in ['Length', 'Width', 'Height', 'Wheelbase']:\n",
        "      df[column] = df[column].astype('float64')\n",
        "\n",
        "  #convertendo váriaveis categóricas para booleano\n",
        "  new_df = pd.get_dummies(df, columns=['Maker', 'Type', 'Fuel', 'Engine Type', 'Transmission', 'Rear Brake', 'Drive', 'Emission Type', 'Tyre Size',  'NCAP Rating', 'Variants'], drop_first=True)\n",
        "\n",
        "  return new_df"
      ],
      "metadata": {
        "id": "ISfmRWEBNxiS"
      },
      "execution_count": 98,
      "outputs": []
    },
    {
      "cell_type": "code",
      "source": [
        "X_train = data_transformation(X_train)\n",
        "x_test = data_transformation(x_test)\n",
        "\n",
        "# Garantindo que ambos os conjuntos de dados tenham as mesmas colunas após a codificação dummy\n",
        "X_train, x_test = X_train.align(x_test, join='left', axis=1, fill_value=0)"
      ],
      "metadata": {
        "id": "r9VNNsF2a4X-"
      },
      "execution_count": 99,
      "outputs": []
    },
    {
      "cell_type": "code",
      "source": [
        "X_train.dtypes"
      ],
      "metadata": {
        "colab": {
          "base_uri": "https://localhost:8080/"
        },
        "id": "eT1thD1DXG0i",
        "outputId": "53187461-cc4b-4018-a4ad-6b3d7471fa76"
      },
      "execution_count": 100,
      "outputs": [
        {
          "output_type": "execute_result",
          "data": {
            "text/plain": [
              "Seats             int64\n",
              "Displacement    float64\n",
              "Length          float64\n",
              "Width           float64\n",
              "Height          float64\n",
              "                 ...   \n",
              "Variants_4         bool\n",
              "Variants_5         bool\n",
              "Variants_6         bool\n",
              "Variants_17        bool\n",
              "Variants_20        bool\n",
              "Length: 143, dtype: object"
            ]
          },
          "metadata": {},
          "execution_count": 100
        }
      ]
    },
    {
      "cell_type": "markdown",
      "source": [
        "Deve-se também nomalizar os dados, para garantir que todas as características contribuam igualmente para o modelo. Vou utilizar a normalização porque a distribuição dos dados não é conhecida.\n"
      ],
      "metadata": {
        "id": "mL_8p_-Z4Hi6"
      }
    },
    {
      "cell_type": "code",
      "source": [
        "from sklearn.preprocessing import MinMaxScaler\n",
        "\n",
        "scaler = MinMaxScaler()\n",
        "scaler.fit(X_train)\n",
        "X_train = scaler.transform(X_train)\n",
        "X_test = scaler.transform(x_test)"
      ],
      "metadata": {
        "id": "t2nzGapKrXtW"
      },
      "execution_count": 101,
      "outputs": []
    },
    {
      "cell_type": "markdown",
      "source": [
        "## Treinamento dos modelos\n"
      ],
      "metadata": {
        "id": "4mCH3vcrMxob"
      }
    },
    {
      "cell_type": "markdown",
      "source": [
        "### Árvore de Decisão\n",
        "Material de apoio:\n",
        "-  https://scikit-learn.org/stable/modules/tree.html"
      ],
      "metadata": {
        "id": "unspc95_NKiT"
      }
    },
    {
      "cell_type": "code",
      "source": [
        "from sklearn.ensemble import RandomForestClassifier\n",
        "\n",
        "rf = RandomForestClassifier(n_estimators=1000)\n",
        "rf.fit(X_train, y_train)\n",
        "rf_preds = rf.predict(X_test)"
      ],
      "metadata": {
        "id": "Q_CRg3mUNOLS",
        "colab": {
          "base_uri": "https://localhost:8080/"
        },
        "outputId": "8d8e60c1-6770-4766-e9f2-419cdcc0adaf"
      },
      "execution_count": 102,
      "outputs": [
        {
          "output_type": "stream",
          "name": "stderr",
          "text": [
            "<ipython-input-102-723a2c575cd0>:4: DataConversionWarning: A column-vector y was passed when a 1d array was expected. Please change the shape of y to (n_samples,), for example using ravel().\n",
            "  rf.fit(X_train, y_train)\n"
          ]
        }
      ]
    },
    {
      "cell_type": "code",
      "source": [
        "rf_preds"
      ],
      "metadata": {
        "colab": {
          "base_uri": "https://localhost:8080/"
        },
        "id": "on1r7I72GyZd",
        "outputId": "b9e4dd97-255b-4d08-9283-f0097c8585d2"
      },
      "execution_count": 103,
      "outputs": [
        {
          "output_type": "execute_result",
          "data": {
            "text/plain": [
              "array(['Fortuner', 'Tucson', 'Creta', 'Sonet', 'Kiger',\n",
              "       'Fortuner Legender', 'Tucson', 'i20', 'Carnival', 'Seltos',\n",
              "       'Scorpio-N', 'XUV 700', 'Jazz', 'Verna', 'XUV 700', 'Kiger',\n",
              "       'Taigun', 'Virtus', 'Fortuner', 'Grand i10 Nios', 'Carnival',\n",
              "       'Aura', 'Venue', 'XUV 300', 'Aura', 'Kiger', 'i20 N-Line',\n",
              "       'Scorpio-N', 'Alcazar', 'i20', 'Alcazar', 'Scorpio-N', 'Thar LX',\n",
              "       'Thar LX', 'XUV 300', 'Verna', 'Seltos', 'Magnite', 'Thar LX',\n",
              "       'Carens', 'Fortuner', 'Grand i10 Nios', 'Grand i10 Nios', 'Venue',\n",
              "       'Sonet', 'i20', 'Scorpio-N'], dtype=object)"
            ]
          },
          "metadata": {},
          "execution_count": 103
        }
      ]
    },
    {
      "cell_type": "markdown",
      "source": [
        "### Máquina de Suporte de Vetores\n",
        "Material de apoio:\n",
        "- https://scikit-learn.org/stable/modules/svm.html"
      ],
      "metadata": {
        "id": "QIuS9-A-NOhJ"
      }
    },
    {
      "cell_type": "code",
      "source": [
        "from sklearn.svm import SVC\n",
        "\n",
        "svm = SVC()\n",
        "svm.fit(X_train, y_train)\n",
        "svm_preds = svm.predict(X_test)"
      ],
      "metadata": {
        "id": "l0ffj-SQNlRi",
        "colab": {
          "base_uri": "https://localhost:8080/"
        },
        "outputId": "e607f07a-71cd-4c45-a358-9d43240df803"
      },
      "execution_count": 104,
      "outputs": [
        {
          "output_type": "stream",
          "name": "stderr",
          "text": [
            "/usr/local/lib/python3.10/dist-packages/sklearn/utils/validation.py:1143: DataConversionWarning: A column-vector y was passed when a 1d array was expected. Please change the shape of y to (n_samples, ), for example using ravel().\n",
            "  y = column_or_1d(y, warn=True)\n"
          ]
        }
      ]
    },
    {
      "cell_type": "code",
      "source": [
        "svm_preds"
      ],
      "metadata": {
        "colab": {
          "base_uri": "https://localhost:8080/"
        },
        "id": "Exw8owrYG0CL",
        "outputId": "edcf0baf-0ad3-4de8-8d40-b01de0a85fba"
      },
      "execution_count": 105,
      "outputs": [
        {
          "output_type": "execute_result",
          "data": {
            "text/plain": [
              "array(['Fortuner', 'Creta', 'Creta', 'Sonet', 'Kiger', 'Fortuner',\n",
              "       'Scorpio-N', 'Verna', 'Carnival', 'Seltos', 'Scorpio-N', 'XUV 700',\n",
              "       'Amaze', 'Verna', 'XUV 700', 'Kiger', 'Taigun', 'Virtus',\n",
              "       'Fortuner', 'Kwid', 'Carnival', 'Aura', 'Venue', 'XUV 300',\n",
              "       'Verna', 'Kiger', 'Creta', 'Scorpio-N', 'Alcazar', 'Verna',\n",
              "       'Alcazar', 'Scorpio-N', 'Thar LX', 'Thar LX', 'XUV 300', 'Verna',\n",
              "       'Seltos', 'Kiger', 'Thar LX', 'Carens', 'Fortuner', 'Kwid',\n",
              "       'Verna', 'Venue', 'Sonet', 'i20', 'Scorpio-N'], dtype=object)"
            ]
          },
          "metadata": {},
          "execution_count": 105
        }
      ]
    },
    {
      "cell_type": "markdown",
      "source": [
        "### KNN\n",
        "Material de apoio:\n",
        "- https://scikit-learn.org/stable/modules/generated/sklearn.neighbors.KNeighborsClassifier.html"
      ],
      "metadata": {
        "id": "rTh6Nkp6Nqz_"
      }
    },
    {
      "cell_type": "code",
      "source": [
        "from sklearn.neighbors import KNeighborsClassifier\n",
        "\n",
        "knn = KNeighborsClassifier(n_neighbors=2)\n",
        "knn.fit(X_train, y_train)\n",
        "knn_preds = knn.predict(X_test)"
      ],
      "metadata": {
        "id": "ynI9uaMBiyjH",
        "colab": {
          "base_uri": "https://localhost:8080/"
        },
        "outputId": "927d2344-6571-430c-8105-b70d4d02120c"
      },
      "execution_count": 106,
      "outputs": [
        {
          "output_type": "stream",
          "name": "stderr",
          "text": [
            "/usr/local/lib/python3.10/dist-packages/sklearn/neighbors/_classification.py:215: DataConversionWarning: A column-vector y was passed when a 1d array was expected. Please change the shape of y to (n_samples,), for example using ravel().\n",
            "  return self._fit(X, y)\n"
          ]
        }
      ]
    },
    {
      "cell_type": "code",
      "source": [
        "knn_preds"
      ],
      "metadata": {
        "colab": {
          "base_uri": "https://localhost:8080/"
        },
        "id": "Ddsj84ySG34i",
        "outputId": "1f6a6cba-579a-4d05-874e-4371961bbd49"
      },
      "execution_count": 107,
      "outputs": [
        {
          "output_type": "execute_result",
          "data": {
            "text/plain": [
              "array(['Fortuner', 'Tucson', 'Creta', 'Sonet', 'Kiger', 'Fortuner',\n",
              "       'Scorpio-N', 'i20', 'Carnival', 'Seltos', 'Scorpio-N', 'XUV 700',\n",
              "       'Amaze', 'Verna', 'XUV 700', 'Kiger', 'Taigun', 'Virtus',\n",
              "       'Fortuner', 'Grand i10 Nios', 'Carnival', 'Aura', 'Venue',\n",
              "       'XUV 300', 'Aura', 'Kiger', 'i20', 'Scorpio-N', 'Alcazar', 'Venue',\n",
              "       'Alcazar', 'Scorpio-N', 'Thar LX', 'Thar LX', 'XUV 300', 'Venue',\n",
              "       'Seltos', 'Magnite', 'Thar LX', 'Carens', 'Fortuner',\n",
              "       'Grand i10 Nios', 'Grand i10 Nios', 'Venue', 'Sonet', 'i20',\n",
              "       'Scorpio-N'], dtype=object)"
            ]
          },
          "metadata": {},
          "execution_count": 107
        }
      ]
    },
    {
      "cell_type": "markdown",
      "source": [
        "## Métricas de Avaliação\n",
        "Para avaliar adequadamente o desempenho do modelo de classificação, é essencial calcular e analísar algumas métricas, tais como: acurácia, precisão, recall e F1-score. Além disso, a construção de uma matriz de confusão é fundamental para uma visualização mais clara e detalhada do desempenho dos modelos em questão.\n",
        "\n",
        "Depois de treinar os três modelos, analise os resultados alcançados e discuta qual deles, em sua opinião, obteve os melhores desempenhos.\n",
        "\n",
        "Material de apoio:\n",
        "- https://medium.com/@impythonprogrammer/evaluation-metrics-for-classification-fc770511052d\n",
        "- https://github.com/H2IA/escola-de-verao-2021/blob/main/notebooks/colab/M%C3%A9tricas.ipynb"
      ],
      "metadata": {
        "id": "GoyVT21iN5pZ"
      }
    },
    {
      "cell_type": "code",
      "source": [
        "from sklearn.metrics import classification_report\n",
        "print(\"Random Forest\")\n",
        "print(classification_report(y_test, rf_preds))\n",
        "\n",
        "print(\"Support Vector Machine\")\n",
        "print(classification_report(y_test, svm_preds))\n",
        "\n",
        "print(\"KNN\")\n",
        "print(classification_report(y_test, knn_preds))"
      ],
      "metadata": {
        "id": "dpUAq-QPOFKx",
        "colab": {
          "base_uri": "https://localhost:8080/"
        },
        "outputId": "a99600b6-4148-4c56-86db-6dac575925bd"
      },
      "execution_count": 108,
      "outputs": [
        {
          "output_type": "stream",
          "name": "stdout",
          "text": [
            "Random Forest\n",
            "                   precision    recall  f1-score   support\n",
            "\n",
            "          Alcazar       1.00      1.00      1.00         2\n",
            "             Aura       1.00      1.00      1.00         2\n",
            "      C5 Aircross       0.00      0.00      0.00         1\n",
            "           Carens       1.00      1.00      1.00         1\n",
            "         Carnival       1.00      1.00      1.00         2\n",
            "     City 4th Gen       0.00      0.00      0.00         1\n",
            "            Creta       1.00      1.00      1.00         1\n",
            "         Fortuner       0.67      0.67      0.67         3\n",
            "Fortuner Legender       0.00      0.00      0.00         1\n",
            "   Grand i10 Nios       1.00      1.00      1.00         3\n",
            "             Jazz       0.00      0.00      0.00         0\n",
            "            Kiger       0.33      1.00      0.50         1\n",
            "          Magnite       1.00      1.00      1.00         1\n",
            "        Scorpio-N       1.00      1.00      1.00         4\n",
            "           Seltos       1.00      1.00      1.00         2\n",
            "            Sonet       1.00      1.00      1.00         2\n",
            "           Taigun       1.00      1.00      1.00         1\n",
            "      Thar AX OPT       0.00      0.00      0.00         2\n",
            "          Thar LX       0.33      1.00      0.50         1\n",
            "           Triber       0.00      0.00      0.00         2\n",
            "           Tucson       0.50      1.00      0.67         1\n",
            "            Venue       0.50      1.00      0.67         1\n",
            "     Venue N-Line       0.00      0.00      0.00         1\n",
            "            Verna       1.00      1.00      1.00         2\n",
            "           Virtus       1.00      1.00      1.00         1\n",
            "          XUV 300       1.00      1.00      1.00         2\n",
            "          XUV 700       1.00      1.00      1.00         2\n",
            "              i20       1.00      1.00      1.00         3\n",
            "       i20 N-Line       1.00      1.00      1.00         1\n",
            "\n",
            "         accuracy                           0.81        47\n",
            "        macro avg       0.67      0.75      0.69        47\n",
            "     weighted avg       0.76      0.81      0.77        47\n",
            "\n",
            "Support Vector Machine\n",
            "                   precision    recall  f1-score   support\n",
            "\n",
            "          Alcazar       1.00      1.00      1.00         2\n",
            "            Amaze       0.00      0.00      0.00         0\n",
            "             Aura       1.00      0.50      0.67         2\n",
            "      C5 Aircross       0.00      0.00      0.00         1\n",
            "           Carens       1.00      1.00      1.00         1\n",
            "         Carnival       1.00      1.00      1.00         2\n",
            "     City 4th Gen       0.00      0.00      0.00         1\n",
            "            Creta       0.33      1.00      0.50         1\n",
            "         Fortuner       0.75      1.00      0.86         3\n",
            "Fortuner Legender       0.00      0.00      0.00         1\n",
            "   Grand i10 Nios       0.00      0.00      0.00         3\n",
            "            Kiger       0.25      1.00      0.40         1\n",
            "             Kwid       0.00      0.00      0.00         0\n",
            "          Magnite       0.00      0.00      0.00         1\n",
            "        Scorpio-N       0.80      1.00      0.89         4\n",
            "           Seltos       1.00      1.00      1.00         2\n",
            "            Sonet       1.00      1.00      1.00         2\n",
            "           Taigun       1.00      1.00      1.00         1\n",
            "      Thar AX OPT       0.00      0.00      0.00         2\n",
            "          Thar LX       0.33      1.00      0.50         1\n",
            "           Triber       0.00      0.00      0.00         2\n",
            "           Tucson       0.00      0.00      0.00         1\n",
            "            Venue       0.50      1.00      0.67         1\n",
            "     Venue N-Line       0.00      0.00      0.00         1\n",
            "            Verna       0.33      1.00      0.50         2\n",
            "           Virtus       1.00      1.00      1.00         1\n",
            "          XUV 300       1.00      1.00      1.00         2\n",
            "          XUV 700       1.00      1.00      1.00         2\n",
            "              i20       1.00      0.33      0.50         3\n",
            "       i20 N-Line       0.00      0.00      0.00         1\n",
            "\n",
            "         accuracy                           0.64        47\n",
            "        macro avg       0.48      0.56      0.48        47\n",
            "     weighted avg       0.59      0.64      0.58        47\n",
            "\n",
            "KNN\n",
            "                   precision    recall  f1-score   support\n",
            "\n",
            "          Alcazar       1.00      1.00      1.00         2\n",
            "            Amaze       0.00      0.00      0.00         0\n",
            "             Aura       1.00      1.00      1.00         2\n",
            "      C5 Aircross       0.00      0.00      0.00         1\n",
            "           Carens       1.00      1.00      1.00         1\n",
            "         Carnival       1.00      1.00      1.00         2\n",
            "     City 4th Gen       0.00      0.00      0.00         1\n",
            "            Creta       1.00      1.00      1.00         1\n",
            "         Fortuner       0.75      1.00      0.86         3\n",
            "Fortuner Legender       0.00      0.00      0.00         1\n",
            "   Grand i10 Nios       1.00      1.00      1.00         3\n",
            "            Kiger       0.33      1.00      0.50         1\n",
            "          Magnite       1.00      1.00      1.00         1\n",
            "        Scorpio-N       0.80      1.00      0.89         4\n",
            "           Seltos       1.00      1.00      1.00         2\n",
            "            Sonet       1.00      1.00      1.00         2\n",
            "           Taigun       1.00      1.00      1.00         1\n",
            "      Thar AX OPT       0.00      0.00      0.00         2\n",
            "          Thar LX       0.33      1.00      0.50         1\n",
            "           Triber       0.00      0.00      0.00         2\n",
            "           Tucson       1.00      1.00      1.00         1\n",
            "            Venue       0.25      1.00      0.40         1\n",
            "     Venue N-Line       0.00      0.00      0.00         1\n",
            "            Verna       1.00      0.50      0.67         2\n",
            "           Virtus       1.00      1.00      1.00         1\n",
            "          XUV 300       1.00      1.00      1.00         2\n",
            "          XUV 700       1.00      1.00      1.00         2\n",
            "              i20       0.67      0.67      0.67         3\n",
            "       i20 N-Line       0.00      0.00      0.00         1\n",
            "\n",
            "         accuracy                           0.77        47\n",
            "        macro avg       0.63      0.70      0.64        47\n",
            "     weighted avg       0.71      0.77      0.72        47\n",
            "\n"
          ]
        },
        {
          "output_type": "stream",
          "name": "stderr",
          "text": [
            "/usr/local/lib/python3.10/dist-packages/sklearn/metrics/_classification.py:1344: UndefinedMetricWarning: Precision and F-score are ill-defined and being set to 0.0 in labels with no predicted samples. Use `zero_division` parameter to control this behavior.\n",
            "  _warn_prf(average, modifier, msg_start, len(result))\n",
            "/usr/local/lib/python3.10/dist-packages/sklearn/metrics/_classification.py:1344: UndefinedMetricWarning: Recall and F-score are ill-defined and being set to 0.0 in labels with no true samples. Use `zero_division` parameter to control this behavior.\n",
            "  _warn_prf(average, modifier, msg_start, len(result))\n",
            "/usr/local/lib/python3.10/dist-packages/sklearn/metrics/_classification.py:1344: UndefinedMetricWarning: Precision and F-score are ill-defined and being set to 0.0 in labels with no predicted samples. Use `zero_division` parameter to control this behavior.\n",
            "  _warn_prf(average, modifier, msg_start, len(result))\n",
            "/usr/local/lib/python3.10/dist-packages/sklearn/metrics/_classification.py:1344: UndefinedMetricWarning: Recall and F-score are ill-defined and being set to 0.0 in labels with no true samples. Use `zero_division` parameter to control this behavior.\n",
            "  _warn_prf(average, modifier, msg_start, len(result))\n",
            "/usr/local/lib/python3.10/dist-packages/sklearn/metrics/_classification.py:1344: UndefinedMetricWarning: Precision and F-score are ill-defined and being set to 0.0 in labels with no predicted samples. Use `zero_division` parameter to control this behavior.\n",
            "  _warn_prf(average, modifier, msg_start, len(result))\n",
            "/usr/local/lib/python3.10/dist-packages/sklearn/metrics/_classification.py:1344: UndefinedMetricWarning: Recall and F-score are ill-defined and being set to 0.0 in labels with no true samples. Use `zero_division` parameter to control this behavior.\n",
            "  _warn_prf(average, modifier, msg_start, len(result))\n",
            "/usr/local/lib/python3.10/dist-packages/sklearn/metrics/_classification.py:1344: UndefinedMetricWarning: Precision and F-score are ill-defined and being set to 0.0 in labels with no predicted samples. Use `zero_division` parameter to control this behavior.\n",
            "  _warn_prf(average, modifier, msg_start, len(result))\n",
            "/usr/local/lib/python3.10/dist-packages/sklearn/metrics/_classification.py:1344: UndefinedMetricWarning: Recall and F-score are ill-defined and being set to 0.0 in labels with no true samples. Use `zero_division` parameter to control this behavior.\n",
            "  _warn_prf(average, modifier, msg_start, len(result))\n",
            "/usr/local/lib/python3.10/dist-packages/sklearn/metrics/_classification.py:1344: UndefinedMetricWarning: Precision and F-score are ill-defined and being set to 0.0 in labels with no predicted samples. Use `zero_division` parameter to control this behavior.\n",
            "  _warn_prf(average, modifier, msg_start, len(result))\n",
            "/usr/local/lib/python3.10/dist-packages/sklearn/metrics/_classification.py:1344: UndefinedMetricWarning: Recall and F-score are ill-defined and being set to 0.0 in labels with no true samples. Use `zero_division` parameter to control this behavior.\n",
            "  _warn_prf(average, modifier, msg_start, len(result))\n",
            "/usr/local/lib/python3.10/dist-packages/sklearn/metrics/_classification.py:1344: UndefinedMetricWarning: Precision and F-score are ill-defined and being set to 0.0 in labels with no predicted samples. Use `zero_division` parameter to control this behavior.\n",
            "  _warn_prf(average, modifier, msg_start, len(result))\n",
            "/usr/local/lib/python3.10/dist-packages/sklearn/metrics/_classification.py:1344: UndefinedMetricWarning: Recall and F-score are ill-defined and being set to 0.0 in labels with no true samples. Use `zero_division` parameter to control this behavior.\n",
            "  _warn_prf(average, modifier, msg_start, len(result))\n",
            "/usr/local/lib/python3.10/dist-packages/sklearn/metrics/_classification.py:1344: UndefinedMetricWarning: Precision and F-score are ill-defined and being set to 0.0 in labels with no predicted samples. Use `zero_division` parameter to control this behavior.\n",
            "  _warn_prf(average, modifier, msg_start, len(result))\n",
            "/usr/local/lib/python3.10/dist-packages/sklearn/metrics/_classification.py:1344: UndefinedMetricWarning: Recall and F-score are ill-defined and being set to 0.0 in labels with no true samples. Use `zero_division` parameter to control this behavior.\n",
            "  _warn_prf(average, modifier, msg_start, len(result))\n",
            "/usr/local/lib/python3.10/dist-packages/sklearn/metrics/_classification.py:1344: UndefinedMetricWarning: Precision and F-score are ill-defined and being set to 0.0 in labels with no predicted samples. Use `zero_division` parameter to control this behavior.\n",
            "  _warn_prf(average, modifier, msg_start, len(result))\n",
            "/usr/local/lib/python3.10/dist-packages/sklearn/metrics/_classification.py:1344: UndefinedMetricWarning: Recall and F-score are ill-defined and being set to 0.0 in labels with no true samples. Use `zero_division` parameter to control this behavior.\n",
            "  _warn_prf(average, modifier, msg_start, len(result))\n",
            "/usr/local/lib/python3.10/dist-packages/sklearn/metrics/_classification.py:1344: UndefinedMetricWarning: Precision and F-score are ill-defined and being set to 0.0 in labels with no predicted samples. Use `zero_division` parameter to control this behavior.\n",
            "  _warn_prf(average, modifier, msg_start, len(result))\n",
            "/usr/local/lib/python3.10/dist-packages/sklearn/metrics/_classification.py:1344: UndefinedMetricWarning: Recall and F-score are ill-defined and being set to 0.0 in labels with no true samples. Use `zero_division` parameter to control this behavior.\n",
            "  _warn_prf(average, modifier, msg_start, len(result))\n"
          ]
        }
      ]
    },
    {
      "cell_type": "code",
      "source": [
        "print(f'Random Forest: {rf.score(X_test, y_test)}')\n",
        "print(f'SVM: {svm.score(X_test, y_test)}')\n",
        "print(f'KNN: {knn.score(X_test, y_test)}')"
      ],
      "metadata": {
        "colab": {
          "base_uri": "https://localhost:8080/"
        },
        "id": "62e58c-gIG2I",
        "outputId": "510d9a5a-5d2d-4743-93e8-8e356733fdc9"
      },
      "execution_count": 109,
      "outputs": [
        {
          "output_type": "stream",
          "name": "stdout",
          "text": [
            "Random Forest: 0.8085106382978723\n",
            "SVM: 0.6382978723404256\n",
            "KNN: 0.7659574468085106\n"
          ]
        }
      ]
    },
    {
      "cell_type": "code",
      "source": [
        "!pip -qqq install scikit-plot\n",
        "\n",
        "import scikitplot as skplt\n",
        "import matplotlib.pyplot as plt\n",
        "\n",
        "skplt.metrics.plot_confusion_matrix(y_test, rf_preds, normalize=False)\n",
        "plt.show()\n",
        "\n",
        "skplt.metrics.plot_confusion_matrix(y_test, svm_preds, normalize=False)\n",
        "plt.show()\n",
        "\n",
        "skplt.metrics.plot_confusion_matrix(y_test, knn_preds, normalize=False)\n",
        "plt.show()"
      ],
      "metadata": {
        "colab": {
          "base_uri": "https://localhost:8080/",
          "height": 1000
        },
        "id": "BlYYhrKYQKHn",
        "outputId": "d1876b66-34d7-489b-ee2f-43024824c3fa"
      },
      "execution_count": 117,
      "outputs": [
        {
          "output_type": "display_data",
          "data": {
            "text/plain": [
              "<Figure size 640x480 with 2 Axes>"
            ],
            "image/png": "[encoded data removed]"
          },
          "metadata": {}
        },
        {
          "output_type": "display_data",
          "data": {
            "text/plain": [
              "<Figure size 640x480 with 2 Axes>"
            ],
            "image/png": "[encoded data removed]"
          },
          "metadata": {}
        },
        {
          "output_type": "display_data",
          "data": {
            "text/plain": [
              "<Figure size 640x480 with 2 Axes>"
            ],
            "image/png": "[encoded data removed]"
          },
          "metadata": {}
        }
      ]
    },
    {
      "cell_type": "markdown",
      "source": [
        "Baseado nas métricas apresentadas, o modelo Random Forest parece ser o melhor em termos de acurácia geral (0.81) e também em termos de precision, recall e f1-score. Apesar disso, ao analisar as métricas de precisão, recall e F1-score, observamos que o desempenho não é uniforme para todas as classes.\n",
        "O KNN ficou em segundo lugar e o SVM em terceiro lugar."
      ],
      "metadata": {
        "id": "1b3d2vQDOv7q"
      }
    }
  ]
}
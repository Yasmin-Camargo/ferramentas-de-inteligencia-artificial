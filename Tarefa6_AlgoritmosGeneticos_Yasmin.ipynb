{
  "nbformat": 4,
  "nbformat_minor": 0,
  "metadata": {
    "colab": {
      "provenance": []
    },
    "kernelspec": {
      "name": "python3",
      "display_name": "Python 3"
    },
    "language_info": {
      "name": "python"
    }
  },
  "cells": [
    {
      "cell_type": "markdown",
      "source": [
        "# DEAP Introdução\n",
        "---\n",
        "![image](https://deap.readthedocs.io/en/master/_images/deap_long.png)"
      ],
      "metadata": {
        "id": "FMi0EhVOwP5Z"
      }
    },
    {
      "cell_type": "markdown",
      "source": [
        "* Distributed Evolutionary Algorithm in Python  is a evolutionary computation framework for rapid prototyping and testing of ideas.\n",
        "\n",
        "* [DEAP](https://github.com/DEAP/deap) (Distributed Evolutionary Algorithm in Python) é um framework de computação evolutiva para prototipagem rápida e teste de ideias."
      ],
      "metadata": {
        "id": "pprT5JITonWu"
      }
    },
    {
      "cell_type": "markdown",
      "source": [
        "## Material Teórico Algoritmos Genéticos"
      ],
      "metadata": {
        "id": "kU87dqEyNnWu"
      }
    },
    {
      "cell_type": "markdown",
      "source": [
        "* Youtube: [Genetic Algorithms by Example](https://www.youtube.com/watch?v=uQj5UNhCPuo)\n",
        "\n",
        "* Medium: [Genetic Algorithms From Theory to Practice](https://medium.com/@atbender/from-theory-to-practice-designing-genetic-algorithms-to-solve-complex-optimization-problems-cbb2ae44296)\n",
        "\n",
        "* Book: [Introduction to Genetic Algorithms -- Melanie Mitchell](https://www.boente.eti.br/fuzzy/ebook-fuzzy-mitchell.pdf)\n"
      ],
      "metadata": {
        "id": "xZ_yUDzTNySr"
      }
    },
    {
      "cell_type": "markdown",
      "source": [
        "## Instalando DEAP"
      ],
      "metadata": {
        "id": "3Oyn_6YfwL4V"
      }
    },
    {
      "cell_type": "code",
      "execution_count": 1,
      "metadata": {
        "colab": {
          "base_uri": "https://localhost:8080/"
        },
        "id": "e2b_F9SYlWjG",
        "outputId": "5ffdd04a-8d9a-4dba-80d7-dc463d5403d8"
      },
      "outputs": [
        {
          "output_type": "stream",
          "name": "stdout",
          "text": [
            "Collecting deap\n",
            "  Downloading deap-1.4.1-cp310-cp310-manylinux_2_5_x86_64.manylinux1_x86_64.manylinux_2_17_x86_64.manylinux2014_x86_64.whl (135 kB)\n",
            "\u001b[2K     \u001b[90m━━━━━━━━━━━━━━━━━━━━━━━━━━━━━━━━━━━━━━━━\u001b[0m \u001b[32m135.4/135.4 kB\u001b[0m \u001b[31m2.7 MB/s\u001b[0m eta \u001b[36m0:00:00\u001b[0m\n",
            "\u001b[?25hRequirement already satisfied: numpy in /usr/local/lib/python3.10/dist-packages (from deap) (1.25.2)\n",
            "Installing collected packages: deap\n",
            "Successfully installed deap-1.4.1\n"
          ]
        }
      ],
      "source": [
        "!pip install deap"
      ]
    },
    {
      "cell_type": "code",
      "source": [
        "import warnings\n",
        "\n",
        "# Estamos suprimindo um warning do DEAP que pode dificultar a visualização dos resultados\n",
        "warnings.filterwarnings(\"ignore\", category=RuntimeWarning)"
      ],
      "metadata": {
        "id": "tZJoSouPfuLT"
      },
      "execution_count": 2,
      "outputs": []
    },
    {
      "cell_type": "markdown",
      "source": [
        "## Fitness"
      ],
      "metadata": {
        "id": "jEQb0eQopZ3F"
      }
    },
    {
      "cell_type": "markdown",
      "source": [
        "* Para definir funções de fitness, usamos `creator.create()`.\n",
        "\n",
        "* A função `create()` recebe três argumentos: um nome para a nova classe criada, uma classe base e o atributo de pesos.\n",
        "\n",
        "* A classe de fitness requer um parâmetro de pesos, que descreve os objetivos.\n",
        "\n",
        "* O atributo de pesos deve ser uma tupla para que fitness de múltiplos objetivos e de objetivo único possam ser tratadas da mesma maneira.\n",
        "\n",
        "* Abaixo, definimos uma função de maximização de objetivo único:\n",
        "\n",
        "* Observe que tuplas de um único elemento em Python são definidas com uma vírgula no final."
      ],
      "metadata": {
        "id": "fxnF-BfVqtr9"
      }
    },
    {
      "cell_type": "code",
      "source": [
        "from deap import base, creator\n",
        "\n",
        "creator.create(\"Fitness\", base.Fitness, weights=(1.0,))"
      ],
      "metadata": {
        "id": "F67Vk7zzqlGL"
      },
      "execution_count": 3,
      "outputs": []
    },
    {
      "cell_type": "markdown",
      "source": [
        "* Uma fitness de minimização é construída usando pesos negativos, enquanto uma fitness de maximização tem pesos positivos.\n",
        "\n",
        "* Podemos facilmente definir uma função de aptidão que maximize o primeiro objetivo e minimize o segundo."
      ],
      "metadata": {
        "id": "QXTqf0Phsp7e"
      }
    },
    {
      "cell_type": "code",
      "source": [
        "creator.create(\"FitnessMulti\", base.Fitness, weights=(1.0, -1.0))"
      ],
      "metadata": {
        "id": "txymYSYTqn26"
      },
      "execution_count": 4,
      "outputs": []
    },
    {
      "cell_type": "markdown",
      "source": [
        "* Os pesos podem ser usados para variar a importância de cada objetivo em relação aos outros."
      ],
      "metadata": {
        "id": "ybmku_d6u196"
      }
    },
    {
      "cell_type": "code",
      "source": [
        "creator.create(\"FitnessMulti\", base.Fitness, weights=(1.0, -2.0, 0.4, 1000.0))"
      ],
      "metadata": {
        "id": "_sG1WdPeugZZ"
      },
      "execution_count": 5,
      "outputs": []
    },
    {
      "cell_type": "markdown",
      "source": [
        "## Indivíduo"
      ],
      "metadata": {
        "id": "4PMcnODawJB-"
      }
    },
    {
      "cell_type": "markdown",
      "source": [
        "* A forma como os indivíduos são definidos impacta fortemente um algoritmo genético.\n",
        "\n",
        "* Indivíduos podem ser criados usando o `creator` e inicializados usando uma `Toolbox`.\n",
        "\n",
        "* Vamos definir um indivíduo com 10 atributos de ponto flutuante e inicializá-lo aleatoriamente."
      ],
      "metadata": {
        "id": "vHoSxwLCwkYt"
      }
    },
    {
      "cell_type": "code",
      "source": [
        "import random\n",
        "\n",
        "from deap import tools\n",
        "\n",
        "creator.create(\"FitnessMax\", base.Fitness, weights=(-1.0,))\n",
        "creator.create(\"Individual\", list, fitness=creator.FitnessMax)\n",
        "\n",
        "INDIVIDUAL_SIZE=10\n",
        "\n",
        "toolbox = base.Toolbox()\n",
        "toolbox.register(\"attr_float\", random.random)\n",
        "toolbox.register(\"individual\",\n",
        "                 tools.initRepeat,\n",
        "                 creator.Individual,\n",
        "                 toolbox.attr_float,\n",
        "                 n=INDIVIDUAL_SIZE)\n",
        "\n",
        "toolbox.individual()"
      ],
      "metadata": {
        "colab": {
          "base_uri": "https://localhost:8080/"
        },
        "id": "OJMaj8KVpX1s",
        "outputId": "aa0387d6-8170-4523-fca9-294dff24fb08"
      },
      "execution_count": 6,
      "outputs": [
        {
          "output_type": "execute_result",
          "data": {
            "text/plain": [
              "[0.8571689850142057,\n",
              " 0.3665444542510057,\n",
              " 0.08149183709220353,\n",
              " 0.06827824809225636,\n",
              " 0.5713505832036141,\n",
              " 0.9978749108448528,\n",
              " 0.5800353559542475,\n",
              " 0.6135799776264157,\n",
              " 0.8539181539626083,\n",
              " 0.3759483466759046]"
            ]
          },
          "metadata": {},
          "execution_count": 6
        }
      ]
    },
    {
      "cell_type": "markdown",
      "source": [
        "* Da mesma forma, podemos alterar a função `random` para criar um indivíduo de permutação."
      ],
      "metadata": {
        "id": "yuWVrSjA-FUY"
      }
    },
    {
      "cell_type": "code",
      "source": [
        "creator.create(\"FitnessMin\", base.Fitness, weights=(-1.0,))\n",
        "creator.create(\"Individual\", list, fitness=creator.FitnessMin)\n",
        "\n",
        "IND_SIZE=10\n",
        "\n",
        "toolbox = base.Toolbox()\n",
        "toolbox.register(\"indices\", random.sample, range(IND_SIZE), IND_SIZE)\n",
        "toolbox.register(\"individual_sample\",\n",
        "                 tools.initIterate,\n",
        "                 creator.Individual,\n",
        "                 toolbox.indices)\n",
        "\n",
        "toolbox.individual_sample()"
      ],
      "metadata": {
        "colab": {
          "base_uri": "https://localhost:8080/"
        },
        "id": "lzVySa2f94PC",
        "outputId": "fd0d257b-66a8-4203-b361-4c832504659a"
      },
      "execution_count": 7,
      "outputs": [
        {
          "output_type": "execute_result",
          "data": {
            "text/plain": [
              "[4, 5, 7, 2, 9, 8, 0, 3, 6, 1]"
            ]
          },
          "metadata": {},
          "execution_count": 7
        }
      ]
    },
    {
      "cell_type": "markdown",
      "source": [
        "## População"
      ],
      "metadata": {
        "id": "hvdtGD9r--Fg"
      }
    },
    {
      "cell_type": "markdown",
      "source": [
        "* Populações são coleções de indivíduos."
      ],
      "metadata": {
        "id": "ZdPpjOfH_LVC"
      }
    },
    {
      "cell_type": "code",
      "source": [
        "toolbox.register(\"population\", tools.initRepeat, list, toolbox.individual_sample)\n",
        "toolbox.population(n=5)"
      ],
      "metadata": {
        "colab": {
          "base_uri": "https://localhost:8080/"
        },
        "id": "t0sDPdQm_O1x",
        "outputId": "8f2fc2ad-b08b-4f46-ba82-c42280c65ce1"
      },
      "execution_count": 8,
      "outputs": [
        {
          "output_type": "execute_result",
          "data": {
            "text/plain": [
              "[[2, 7, 0, 9, 8, 3, 4, 5, 6, 1],\n",
              " [8, 7, 0, 6, 9, 5, 1, 2, 3, 4],\n",
              " [0, 3, 4, 2, 1, 7, 6, 5, 8, 9],\n",
              " [9, 7, 4, 1, 6, 0, 5, 3, 2, 8],\n",
              " [5, 7, 2, 3, 8, 9, 0, 6, 4, 1]]"
            ]
          },
          "metadata": {},
          "execution_count": 8
        }
      ]
    },
    {
      "cell_type": "markdown",
      "source": [
        "* Outros tipos notáveis de população incluem [Grade](https://deap.readthedocs.io/en/master/tutorials/basic/part1.html#grid), [Enxame](https://deap.readthedocs.io/en/master/tutorials/basic/part1.html#swarm) e [Demes](https://deap.readthedocs.io/en/master/tutorials/basic/part1.html#demes)."
      ],
      "metadata": {
        "id": "-qm_7etn_x86"
      }
    },
    {
      "cell_type": "markdown",
      "source": [
        "## Avaliação"
      ],
      "metadata": {
        "id": "UslKejisC-R3"
      }
    },
    {
      "cell_type": "markdown",
      "source": [
        "![image](https://www.researchgate.net/publication/316514846/figure/fig1/AS:487714714853376@1493291657451/Genetic-Algorithm-Evaluation-Flow.png)"
      ],
      "metadata": {
        "id": "cqOv-aVec6TD"
      }
    },
    {
      "cell_type": "markdown",
      "source": [
        "* Ao inspecionar a avaliação de aptidão dos nossos indivíduos, podemos ver que sua avaliação permanece indefinida até que a alteremos."
      ],
      "metadata": {
        "id": "_AByoz_yC_nW"
      }
    },
    {
      "cell_type": "code",
      "source": [
        "creator.create(\"FitnessMax\", base.Fitness, weights=(1.0,))\n",
        "creator.create(\"Individual\", list, fitness=creator.FitnessMax)\n",
        "\n",
        "INDIVIDUAL_SIZE=10\n",
        "\n",
        "toolbox = base.Toolbox()\n",
        "toolbox.register(\"attr_float\", random.random)\n",
        "toolbox.register(\"individual\",\n",
        "                 tools.initRepeat,\n",
        "                 creator.Individual,\n",
        "                 toolbox.attr_float,\n",
        "                 n=INDIVIDUAL_SIZE)\n",
        "\n",
        "individual = toolbox.individual()\n",
        "\n",
        "print(individual)\n",
        "print(individual.fitness.valid)\n",
        "print(individual.fitness.values)"
      ],
      "metadata": {
        "colab": {
          "base_uri": "https://localhost:8080/"
        },
        "id": "rXgTEcXgCvB9",
        "outputId": "871545bc-1e02-4f38-8da6-9b0d1eb57faf"
      },
      "execution_count": 9,
      "outputs": [
        {
          "output_type": "stream",
          "name": "stdout",
          "text": [
            "[0.6786546911797238, 0.7489070247311291, 0.7329552855468925, 0.9070957993293842, 0.6579125235795031, 0.32121396759470355, 0.9824173275797811, 0.7214294485988527, 0.9675922636972941, 0.12441031207419262]\n",
            "False\n",
            "()\n"
          ]
        }
      ]
    },
    {
      "cell_type": "markdown",
      "source": [
        "* Aqui vamos criar uma avaliação que é simplesmente a soma de todos os atributos do indivíduo.\n",
        "\n",
        "* Lembre-se de que a avaliação de aptidão dos indivíduos precisa ser uma tupla pelos mesmos motivos discutidos anteriormente."
      ],
      "metadata": {
        "id": "YubS3Hi6G45K"
      }
    },
    {
      "cell_type": "code",
      "source": [
        "def evaluate(individual):\n",
        "    return (sum(individual),)\n",
        "\n",
        "individual.fitness.values = evaluate(individual)\n",
        "\n",
        "print(individual.fitness.valid)\n",
        "print(individual.fitness)"
      ],
      "metadata": {
        "colab": {
          "base_uri": "https://localhost:8080/"
        },
        "id": "98PAr97pED8o",
        "outputId": "cc5d9bfa-8137-4041-f4ae-9e20864d25cb"
      },
      "execution_count": 10,
      "outputs": [
        {
          "output_type": "stream",
          "name": "stdout",
          "text": [
            "True\n",
            "(6.842588643911456,)\n"
          ]
        }
      ]
    },
    {
      "cell_type": "markdown",
      "source": [
        "## Mutação"
      ],
      "metadata": {
        "id": "Vd04mfFCHXG4"
      }
    },
    {
      "cell_type": "markdown",
      "source": [
        "![image](https://www.researchgate.net/publication/272093243/figure/fig8/AS:329956690284546@1455679213204/Mutation-operators-applied-to-chromosomes-in-the-proposed-genetic-algorithm.png)"
      ],
      "metadata": {
        "id": "fOR1xaeYdcMC"
      }
    },
    {
      "cell_type": "markdown",
      "source": [
        "* Existem diversos operadores de mutação no módulo `deap.tools`.\n",
        "\n",
        "* A regra geral para operadores de mutação é que eles apenas mutam.\n",
        "\n",
        "* Uma cópia independente deve ser feita antes de mutar o indivíduo original se o indivíduo original precisar ser mantido.\n",
        "\n",
        "* Para aplicar uma mutação (aqui uma mutação gaussiana), simplesmente utilize a função desejada."
      ],
      "metadata": {
        "id": "B3xIp-gFJsV4"
      }
    },
    {
      "cell_type": "code",
      "source": [
        "mutant = toolbox.clone(individual)\n",
        "mutant, = tools.mutGaussian(mutant, mu=0.0, sigma=0.2, indpb=0.2)\n",
        "\n",
        "del mutant.fitness.values\n",
        "\n",
        "print(individual)\n",
        "print(mutant)"
      ],
      "metadata": {
        "colab": {
          "base_uri": "https://localhost:8080/"
        },
        "id": "0WHzZC2KKE8b",
        "outputId": "4c62c63c-5403-4cb5-f4b3-dfe62141beb5"
      },
      "execution_count": 11,
      "outputs": [
        {
          "output_type": "stream",
          "name": "stdout",
          "text": [
            "[0.6786546911797238, 0.7489070247311291, 0.7329552855468925, 0.9070957993293842, 0.6579125235795031, 0.32121396759470355, 0.9824173275797811, 0.7214294485988527, 0.9675922636972941, 0.12441031207419262]\n",
            "[0.6786546911797238, 0.7489070247311291, 0.7329552855468925, 0.9070957993293842, 0.5466492155325755, 0.3338755074890768, 0.9824173275797811, 0.7214294485988527, 0.9675922636972941, 0.12441031207419262]\n"
          ]
        }
      ]
    },
    {
      "cell_type": "markdown",
      "source": [
        "* Os valores de aptidão são deletados porque não estão mais relacionados ao indivíduo.\n",
        "\n",
        "* A mutação não é responsável por invalidar a aptidão."
      ],
      "metadata": {
        "id": "Cx6tfZ5yKiAG"
      }
    },
    {
      "cell_type": "markdown",
      "source": [
        "## Crossover"
      ],
      "metadata": {
        "id": "nqA4Lme9K2I6"
      }
    },
    {
      "cell_type": "markdown",
      "source": [
        "![image](https://d3i71xaburhd42.cloudfront.net/73a50124700c7b2e44e3a72a298f6279a8b54ac3/13-Figure2-1.png)"
      ],
      "metadata": {
        "id": "lfh_Bhkadog9"
      }
    },
    {
      "cell_type": "markdown",
      "source": [
        "* Existem diversos operadores de crossover na [documentação](https://deap.readthedocs.io/en/master/api/tools.html#module-deap.tools).\n",
        "\n",
        "* A regra geral para operadores de crossover é que eles apenas cruzam indivíduos.\n",
        "\n",
        "* Cópias independentes devem ser feitas antes de cruzar os indivíduos originais se os indivíduos originais precisarem ser mantidos.\n",
        "\n",
        "* Abaixo aplicamos uma operação de crossover para produzir os dois filhos que são clonados antecipadamente."
      ],
      "metadata": {
        "id": "F5Odr9XxLpZH"
      }
    },
    {
      "cell_type": "code",
      "source": [
        "individual1, individual2 = toolbox.individual(), toolbox.individual()\n",
        "\n",
        "print(individual1)\n",
        "print(individual2)\n",
        "\n",
        "child1, child2 = [toolbox.clone(ind) for ind in (individual1, individual2)]\n",
        "tools.cxOnePoint(child1, child2)\n",
        "\n",
        "del child1.fitness.values\n",
        "del child2.fitness.values\n",
        "\n",
        "print(child1)\n",
        "print(child2)"
      ],
      "metadata": {
        "colab": {
          "base_uri": "https://localhost:8080/"
        },
        "id": "EXxoV3pDJefy",
        "outputId": "7b45c1ee-b702-4f58-f580-9c9e6f123487"
      },
      "execution_count": 12,
      "outputs": [
        {
          "output_type": "stream",
          "name": "stdout",
          "text": [
            "[0.3388947089465548, 0.7585533551098804, 0.4042373987897805, 0.985297630785332, 0.21071546453838252, 0.3710297169915171, 0.003679779666331484, 0.6848482547308237, 0.08374207355506191, 0.46876928478692614]\n",
            "[0.11869281135466248, 0.6681264391403915, 0.3314949316528454, 0.49394805909019424, 0.9562249098898598, 0.4987262363939149, 0.6331005722914216, 0.4293262244735011, 0.13985739425762533, 0.21970358595687733]\n",
            "[0.3388947089465548, 0.7585533551098804, 0.4042373987897805, 0.985297630785332, 0.21071546453838252, 0.4987262363939149, 0.6331005722914216, 0.4293262244735011, 0.13985739425762533, 0.21970358595687733]\n",
            "[0.11869281135466248, 0.6681264391403915, 0.3314949316528454, 0.49394805909019424, 0.9562249098898598, 0.3710297169915171, 0.003679779666331484, 0.6848482547308237, 0.08374207355506191, 0.46876928478692614]\n"
          ]
        }
      ]
    },
    {
      "cell_type": "markdown",
      "source": [
        "## Seleção"
      ],
      "metadata": {
        "id": "VF-rTqnHMdat"
      }
    },
    {
      "cell_type": "markdown",
      "source": [
        "![image](https://miro.medium.com/v2/resize:fit:720/format:webp/1*Vxs3KzHbOpyEREA2Vo0WVA.jpeg)"
      ],
      "metadata": {
        "id": "WyM1y76zel6j"
      }
    },
    {
      "cell_type": "markdown",
      "source": [
        "* A seleção é feita entre uma população.\n",
        "\n",
        "* Vários operadores de seleção estão disponíveis no módulo `deap.tools`.\n",
        "\n",
        "* Ele retorna uma lista contendo as referências para os indivíduos selecionados."
      ],
      "metadata": {
        "id": "IzZzppF7NMnZ"
      }
    },
    {
      "cell_type": "code",
      "source": [
        "selected = tools.selBest([child1, child2], 1)\n",
        "print(child1 in selected)\n",
        "print(child2 in selected)"
      ],
      "metadata": {
        "colab": {
          "base_uri": "https://localhost:8080/"
        },
        "id": "g31v01BVMfiz",
        "outputId": "7d8f98c9-5cf5-4fc9-faf2-20395964a351"
      },
      "execution_count": 13,
      "outputs": [
        {
          "output_type": "stream",
          "name": "stdout",
          "text": [
            "True\n",
            "False\n"
          ]
        }
      ]
    },
    {
      "cell_type": "markdown",
      "source": [
        "* Normalmente, uma duplicação da população inteira é feita após a seleção."
      ],
      "metadata": {
        "id": "GK6LZTl-N5lR"
      }
    },
    {
      "cell_type": "code",
      "source": [
        "offspring = [toolbox.clone(ind) for ind in selected]"
      ],
      "metadata": {
        "id": "S6oaSjjgOBh2"
      },
      "execution_count": 14,
      "outputs": []
    },
    {
      "cell_type": "markdown",
      "source": [
        "## Toolbox and Algorithms"
      ],
      "metadata": {
        "id": "-pBxvN3XJnn_"
      }
    },
    {
      "cell_type": "markdown",
      "source": [
        "* Definindo objetivo e indivíduos:"
      ],
      "metadata": {
        "id": "v_LYoa1IQuHG"
      }
    },
    {
      "cell_type": "code",
      "source": [
        "creator.create(\"FitnessMax\", base.Fitness, weights=(-1.0,))\n",
        "creator.create(\"Individual\", list, fitness=creator.FitnessMax)\n",
        "\n",
        "INDIVIDUAL_SIZE = 10\n",
        "\n",
        "toolbox = base.Toolbox()\n",
        "\n",
        "toolbox.register(\"attr_float\", random.random)\n",
        "toolbox.register(\"individual\",\n",
        "                 tools.initRepeat,\n",
        "                 creator.Individual,\n",
        "                 toolbox.attr_float,\n",
        "                 n=INDIVIDUAL_SIZE)"
      ],
      "metadata": {
        "id": "7mAzrIcAMvo7"
      },
      "execution_count": 15,
      "outputs": []
    },
    {
      "cell_type": "markdown",
      "source": [
        "* Definindo avaliação e registrando operadores genéticos:"
      ],
      "metadata": {
        "id": "RP8VdfykQ09H"
      }
    },
    {
      "cell_type": "code",
      "source": [
        "def evaluateInd(individual):\n",
        "    return (sum(individual),)\n",
        "\n",
        "toolbox.register(\"mate\", tools.cxTwoPoint)\n",
        "toolbox.register(\"mutate\", tools.mutGaussian, mu=0, sigma=1, indpb=0.2)\n",
        "toolbox.register(\"select\", tools.selTournament, tournsize=3)\n",
        "toolbox.register(\"evaluate\", evaluateInd)\n",
        "\n",
        "toolbox.register(\"population\", tools.initRepeat, list, toolbox.individual)"
      ],
      "metadata": {
        "id": "YOhTnuOWOE_n"
      },
      "execution_count": 16,
      "outputs": []
    },
    {
      "cell_type": "markdown",
      "source": [
        "* Loop básico do algoritmo genético:"
      ],
      "metadata": {
        "id": "68aZmoU-Q58O"
      }
    },
    {
      "cell_type": "code",
      "source": [
        "GENERATION_AMOUNT = 10\n",
        "CROSSOVER_PROBABILITY = 0.5\n",
        "MUTATION_PROBABILITY = 0.02\n",
        "\n",
        "pop = toolbox.population(n=300)\n",
        "\n",
        "for g in range(GENERATION_AMOUNT):\n",
        "    offspring = toolbox.select(pop, len(pop))\n",
        "\n",
        "    offspring = list(map(toolbox.clone, offspring))\n",
        "\n",
        "    for child1, child2 in zip(offspring[::2], offspring[1::2]):\n",
        "        if random.random() < CROSSOVER_PROBABILITY:\n",
        "            toolbox.mate(child1, child2)\n",
        "            del child1.fitness.values\n",
        "            del child2.fitness.values\n",
        "\n",
        "    for mutant in offspring:\n",
        "        if random.random() < MUTATION_PROBABILITY:\n",
        "            toolbox.mutate(mutant)\n",
        "            del mutant.fitness.values\n",
        "\n",
        "    invalid_ind = [ind for ind in offspring if not ind.fitness.valid]\n",
        "    fitnesses = list(toolbox.map(toolbox.evaluate, invalid_ind))\n",
        "    for ind, fit in zip(invalid_ind, fitnesses):\n",
        "        ind.fitness.values = fit\n",
        "\n",
        "    fitnesses_values = list(map(lambda x: x[0], fitnesses))\n",
        "    generation_average_fitness = sum(fitnesses_values) / len(fitnesses_values)\n",
        "    print(f\"Generation fitness: {generation_average_fitness:6.5f}\")\n",
        "\n",
        "    pop[:] = offspring"
      ],
      "metadata": {
        "id": "afuQoCFDhrcC",
        "colab": {
          "base_uri": "https://localhost:8080/"
        },
        "outputId": "39883c26-70e1-4ad3-9389-126a6708877d"
      },
      "execution_count": 17,
      "outputs": [
        {
          "output_type": "stream",
          "name": "stdout",
          "text": [
            "Generation fitness: 5.05528\n",
            "Generation fitness: 4.29748\n",
            "Generation fitness: 3.67206\n",
            "Generation fitness: 2.99715\n",
            "Generation fitness: 2.41952\n",
            "Generation fitness: 1.95115\n",
            "Generation fitness: 1.42842\n",
            "Generation fitness: 0.84576\n",
            "Generation fitness: -0.19249\n",
            "Generation fitness: -1.28273\n"
          ]
        }
      ]
    },
    {
      "cell_type": "markdown",
      "source": [
        "* Uma variação disso é usar `algorithms.varAnd`, que abstrai os operadores de variabilidade:"
      ],
      "metadata": {
        "id": "CjpzvmYhRryU"
      }
    },
    {
      "cell_type": "code",
      "source": [
        "from deap import algorithms\n",
        "\n",
        "GENERATION_AMOUNT = 10\n",
        "CROSSOVER_PROBABILITY = 0.5\n",
        "MUTATION_PROBABILITY = 0.02\n",
        "\n",
        "pop = toolbox.population(n=300)\n",
        "\n",
        "for g in range(GENERATION_AMOUNT):\n",
        "    offspring = map(toolbox.clone, toolbox.select(pop, len(pop)))\n",
        "\n",
        "    offspring = algorithms.varAnd(offspring,\n",
        "                                  toolbox,\n",
        "                                  CROSSOVER_PROBABILITY,\n",
        "                                  MUTATION_PROBABILITY)\n",
        "\n",
        "    invalid_ind = [ind for ind in offspring if not ind.fitness.valid]\n",
        "    fitnesses = list(toolbox.map(toolbox.evaluate, invalid_ind))\n",
        "    for ind, fit in zip(invalid_ind, fitnesses):\n",
        "        ind.fitness.values = fit\n",
        "\n",
        "    fitnesses_values = list(map(lambda x: x[0], fitnesses))\n",
        "    generation_average_fitness = sum(fitnesses_values) / len(fitnesses_values)\n",
        "    print(f\"Generation fitness: {generation_average_fitness:6.5f}\")\n",
        "\n",
        "    pop[:] = offspring"
      ],
      "metadata": {
        "id": "B_2WAaQzht02",
        "colab": {
          "base_uri": "https://localhost:8080/"
        },
        "outputId": "c179ba8a-70d8-4dac-a043-506b4ba7c716"
      },
      "execution_count": 18,
      "outputs": [
        {
          "output_type": "stream",
          "name": "stdout",
          "text": [
            "Generation fitness: 5.00476\n",
            "Generation fitness: 4.26528\n",
            "Generation fitness: 3.69160\n",
            "Generation fitness: 3.06934\n",
            "Generation fitness: 2.51297\n",
            "Generation fitness: 2.16926\n",
            "Generation fitness: 1.51873\n",
            "Generation fitness: 0.71367\n",
            "Generation fitness: -0.42421\n",
            "Generation fitness: -1.46498\n"
          ]
        }
      ]
    },
    {
      "cell_type": "markdown",
      "source": [
        "* Podemos simplificar ainda mais usando `algorithms.eaSimple`:"
      ],
      "metadata": {
        "id": "Uw6KxCpjSPnX"
      }
    },
    {
      "cell_type": "code",
      "source": [
        "pop = toolbox.population(n=300)\n",
        "population, logbook = algorithms.eaSimple(pop, toolbox, cxpb=0.5, mutpb=0.2, ngen=10)"
      ],
      "metadata": {
        "id": "beeEyZGBhvqx",
        "colab": {
          "base_uri": "https://localhost:8080/"
        },
        "outputId": "30bad7e1-575d-4768-892e-96a657ec0d5f"
      },
      "execution_count": 19,
      "outputs": [
        {
          "output_type": "stream",
          "name": "stdout",
          "text": [
            "gen\tnevals\n",
            "0  \t300   \n",
            "1  \t195   \n",
            "2  \t184   \n",
            "3  \t184   \n",
            "4  \t183   \n",
            "5  \t161   \n",
            "6  \t176   \n",
            "7  \t183   \n",
            "8  \t202   \n",
            "9  \t190   \n",
            "10 \t193   \n"
          ]
        }
      ]
    },
    {
      "cell_type": "markdown",
      "source": [
        "* Note que tais abstrações nos dão menos liberdade para registrar a aptidão das gerações.\n",
        "\n",
        "* Neste formato, precisamos definir uma estatística e registrar métricas para salvar no logbook.\n",
        "\n",
        "* Consulte a [documentação](https://deap.readthedocs.io/en/master/_modules/deap/algorithms.html#eaSimple)."
      ],
      "metadata": {
        "id": "fjQF70opUR9j"
      }
    },
    {
      "cell_type": "code",
      "source": [
        "stats = tools.Statistics(key=lambda fits: fits[0])\n",
        "stats.register(\"avg\", lambda fits: sum(fits) / len(fits))\n",
        "\n",
        "logbook = tools.Logbook()\n",
        "\n",
        "pop = toolbox.population(n=300)\n",
        "population, logbook = algorithms.eaSimple(population, toolbox, cxpb=0.5, mutpb=0.2, ngen=10,\n",
        "                                          stats=stats, halloffame=None, verbose=True)"
      ],
      "metadata": {
        "colab": {
          "base_uri": "https://localhost:8080/"
        },
        "id": "tPLEQof6S9up",
        "outputId": "2c9c08f2-1c64-4ef1-cba6-37623369b0c4"
      },
      "execution_count": 20,
      "outputs": [
        {
          "output_type": "stream",
          "name": "stdout",
          "text": [
            "gen\tnevals\tavg     \n",
            "0  \t0     \t-1.40145\n",
            "1  \t192   \t-1.50912\n",
            "2  \t172   \t-1.68788\n",
            "3  \t190   \t-1.75961\n",
            "4  \t160   \t-1.85029\n",
            "5  \t191   \t-1.91087\n",
            "6  \t190   \t-1.80381\n",
            "7  \t186   \t-1.74177\n",
            "8  \t197   \t-1.70992\n",
            "9  \t157   \t-1.80453\n",
            "10 \t181   \t-1.89885\n"
          ]
        }
      ]
    },
    {
      "cell_type": "markdown",
      "source": [
        "## Exemplo de Problema Prático"
      ],
      "metadata": {
        "id": "yEjr3G76ckpi"
      }
    },
    {
      "cell_type": "markdown",
      "source": [
        "Vamos projetar um algoritmo genético para resolver uma instância do Problema do Caixeiro Viajante (Traveling Salesman Problem - TSP).\n",
        "\n",
        "As coordenadas das cidades são: (0, 0), (1, 1), (2, 0), (1, -1)."
      ],
      "metadata": {
        "id": "H8UNSW_3eEQ0"
      }
    },
    {
      "cell_type": "code",
      "source": [
        "import matplotlib.pyplot as plt\n",
        "\n",
        "cities = [(0, 0), (1, 1), (2, 0), (1, -1)]\n",
        "\n",
        "x_coords, y_coords = zip(*cities)\n",
        "\n",
        "plt.figure(figsize=(6, 6))\n",
        "plt.scatter(x_coords, y_coords, color=\"red\")\n",
        "\n",
        "for i, (x, y) in enumerate(cities):\n",
        "    plt.annotate(f\"{i}\", (x, y), textcoords=\"offset points\", xytext=(0,10), ha=\"center\")\n",
        "\n",
        "plt.xlabel(\"X Coordinate\")\n",
        "plt.ylabel(\"Y Coordinate\")\n",
        "plt.title(\"Cities for TSP\")\n",
        "\n",
        "plt.grid(True)\n",
        "plt.show()"
      ],
      "metadata": {
        "colab": {
          "base_uri": "https://localhost:8080/",
          "height": 564
        },
        "id": "Lm30E_Ofe30C",
        "outputId": "2bda4033-1862-4e9e-a019-47cd8f6887ea"
      },
      "execution_count": 21,
      "outputs": [
        {
          "output_type": "display_data",
          "data": {
            "text/plain": [
              "<Figure size 600x600 with 1 Axes>"
            ],
            "image/png": "[encoded data removed]"
          },
          "metadata": {}
        }
      ]
    },
    {
      "cell_type": "markdown",
      "source": [
        "Antes de ler sobre a solução, como você modelaria os atributos do indivíduo para este problema?"
      ],
      "metadata": {
        "id": "SpT-a2Qyga5x"
      }
    },
    {
      "cell_type": "markdown",
      "source": [
        "### Solução"
      ],
      "metadata": {
        "id": "cO51A0ZFgYBP"
      }
    },
    {
      "cell_type": "markdown",
      "source": [
        "* Definimos a instância do problema usando as coordenadas das cidades.\n",
        "\n",
        "* Definimos o cálculo da distância.\n",
        "\n",
        "* Projetamos a função de avaliação que itera sobre as cidades e calcula suas distâncias.\n",
        "\n",
        "* Definimos os indivíduos e os operadores genéticos. Aqui, nossos indivíduos são sequências de cidades.\n",
        "\n",
        "* Rodamos o algoritmo genético."
      ],
      "metadata": {
        "id": "psuqhydTf0J3"
      }
    },
    {
      "cell_type": "code",
      "source": [
        "import random\n",
        "import numpy as np\n",
        "from deap import base, creator, tools, algorithms\n",
        "\n",
        "cities = [(0, 0), (1, 1), (2, 0), (1, -1)]\n",
        "\n",
        "def distance(city1, city2):\n",
        "    return np.sqrt((city1[0] - city2[0])**2 + (city1[1] - city2[1])**2)\n",
        "\n",
        "def evalTSP(individual):\n",
        "    total_distance = sum(distance(cities[individual[i]], cities[individual[i + 1]]) for i in range(len(individual) - 1))\n",
        "    total_distance += distance(cities[individual[-1]], cities[individual[0]])  # Return to start\n",
        "    return (total_distance,)\n",
        "\n",
        "creator.create(\"FitnessMin\", base.Fitness, weights=(-1.0,))\n",
        "creator.create(\"Individual\", list, fitness=creator.FitnessMin)\n",
        "\n",
        "toolbox = base.Toolbox()\n",
        "toolbox.register(\"indices\", random.sample, range(len(cities)), len(cities))\n",
        "toolbox.register(\"individual\", tools.initIterate, creator.Individual, toolbox.indices)\n",
        "toolbox.register(\"population\", tools.initRepeat, list, toolbox.individual)\n",
        "\n",
        "toolbox.register(\"evaluate\", evalTSP)\n",
        "toolbox.register(\"mate\", tools.cxOrdered)\n",
        "toolbox.register(\"mutate\", tools.mutShuffleIndexes, indpb=0.05)\n",
        "toolbox.register(\"select\", tools.selTournament, tournsize=3)\n",
        "\n",
        "population = toolbox.population(n=50)\n",
        "\n",
        "algorithms.eaSimple(population, toolbox, cxpb=0.7, mutpb=0.2, ngen=100, verbose=False)\n",
        "\n",
        "best_ind = tools.selBest(population, 1)[0]\n",
        "best_route = [cities[i] for i in best_ind]\n",
        "\n",
        "print(f\"Best route is {best_route} with total distance {best_ind.fitness.values[0]}\")"
      ],
      "metadata": {
        "colab": {
          "base_uri": "https://localhost:8080/"
        },
        "id": "skKjT-61ePXI",
        "outputId": "73822201-2e1a-4cb6-b16f-b4f70aa8605a"
      },
      "execution_count": 22,
      "outputs": [
        {
          "output_type": "stream",
          "name": "stdout",
          "text": [
            "Best route is [(1, -1), (0, 0), (1, 1), (2, 0)] with total distance 5.656854249492381\n"
          ]
        }
      ]
    },
    {
      "cell_type": "markdown",
      "source": [
        "# Exercícios\n",
        "---"
      ],
      "metadata": {
        "id": "JLIVybtiWia1"
      }
    },
    {
      "cell_type": "markdown",
      "source": [
        "Abaixo você pode encontrar alguns exercícios para praticar o uso do framework."
      ],
      "metadata": {
        "id": "BVOyZ7PQZcEY"
      }
    },
    {
      "cell_type": "markdown",
      "source": [
        "## Exercício 1"
      ],
      "metadata": {
        "id": "0JkczGqtZW4J"
      }
    },
    {
      "cell_type": "markdown",
      "source": [
        "No contexto dos exemplos acima, considere o seguinte:\n",
        "* A aptidão é a soma dos atributos do indivíduo.\n",
        "* Seus atributos são instanciados por `random.random()`.\n",
        "* `random.random()` não retorna números negativos.\n",
        "\n",
        "Como as médias de aptidão das gerações podem ser valores negativos?"
      ],
      "metadata": {
        "id": "MvMltQU7ZqQu"
      }
    },
    {
      "cell_type": "code",
      "source": [
        "all([random.random() > 0 for i in range(10_000)])"
      ],
      "metadata": {
        "colab": {
          "base_uri": "https://localhost:8080/"
        },
        "id": "ASORtcJhThXQ",
        "outputId": "e4239dde-5e62-4b25-a3b1-3737223ccca5"
      },
      "execution_count": 23,
      "outputs": [
        {
          "output_type": "execute_result",
          "data": {
            "text/plain": [
              "True"
            ]
          },
          "metadata": {},
          "execution_count": 23
        }
      ]
    },
    {
      "cell_type": "markdown",
      "source": [
        "Como comentado no exercício a aptidão de um indivíduo é calculada como a soma de seus atributos, que inicialmente são gerados usando random.random(), resultando apenas em valores positivos. As etapas de seleção, avaliação de aptidão e recombinação não podem gerar valores negativos: a seleção apenas escolhe os melhores indivíduos, a avaliação de aptidão não modifica os valores dos atributos, e a recombinação apenas troca valores entre indivíduos.\n",
        "\n",
        "A mutação, por outro lado, introduz variação nos atributos dos indivíduos de forma aleatória. Se a função de mutação escolhida permite a adição de valores negativos, como no caso de uma mutação gaussiana, os atributos dos indivíduos podem se tornar negativos. Além disso, ao configurar o problema para minimização, aptidões menores são preferíveis, resultando na seleção de indivíduos com aptidões negativas. Dessa forma, a combinação da mutação e da minimização pode levar a médias de aptidão negativas ao longo das gerações."
      ],
      "metadata": {
        "id": "duWI-SW33zyi"
      }
    },
    {
      "cell_type": "markdown",
      "source": [
        "## Exercício 2"
      ],
      "metadata": {
        "id": "ur4KqgCBathi"
      }
    },
    {
      "cell_type": "markdown",
      "source": [
        "Crie um algoritmo genético para resolver o seguinte problema:\n",
        "\n",
        "Os indivíduos devem ser permutações dos números [0,1,2,3,4,5,6,7,8,9]. A função objetivo é contar quantos números estão na posição correta (ordem crescente)."
      ],
      "metadata": {
        "id": "29eHOkl9awLj"
      }
    },
    {
      "cell_type": "code",
      "source": [
        "import random\n",
        "import numpy as np\n",
        "from deap import base, creator, tools, algorithms\n",
        "\n",
        "n = 10\n",
        "def evalnumeros(individual):\n",
        "  cont = 0\n",
        "  soma_corretos = 0\n",
        "  for num in individual:\n",
        "    if num == cont:\n",
        "      soma_corretos += 1\n",
        "    cont += 1\n",
        "  return (soma_corretos,)\n",
        "\n",
        "creator.create(\"FitnessMax\", base.Fitness, weights=(1.0,))\n",
        "creator.create(\"Individual\", list, fitness=creator.FitnessMax)\n",
        "\n",
        "toolbox = base.Toolbox()\n",
        "toolbox.register(\"indices\", np.random.permutation, n)\n",
        "toolbox.register(\"individual\", tools.initIterate, creator.Individual, toolbox.indices)\n",
        "toolbox.register(\"population\", tools.initRepeat, list, toolbox.individual)\n",
        "\n",
        "toolbox.register(\"evaluate\", evalnumeros)\n",
        "toolbox.register(\"mate\", tools.cxOrdered)\n",
        "toolbox.register(\"mutate\", tools.mutShuffleIndexes, indpb=0.05)\n",
        "toolbox.register(\"select\", tools.selTournament, tournsize=3)\n",
        "\n",
        "population = toolbox.population(n=50)\n",
        "\n",
        "algorithms.eaSimple(population, toolbox, cxpb=0.7, mutpb=0.2, ngen=100, verbose=False)\n",
        "\n",
        "best_ind = tools.selBest(population, 1)[0]\n",
        "\n",
        "print(f\"Best is {best_ind}, {evalnumeros(best_ind)}\")"
      ],
      "metadata": {
        "id": "rl6nZgEpamyA",
        "colab": {
          "base_uri": "https://localhost:8080/"
        },
        "outputId": "2fd0c58f-2fe4-4fed-e264-d1de874179cf"
      },
      "execution_count": 49,
      "outputs": [
        {
          "output_type": "stream",
          "name": "stdout",
          "text": [
            "Best is [0, 1, 2, 3, 4, 5, 6, 7, 8, 9], (10,)\n"
          ]
        }
      ]
    },
    {
      "cell_type": "markdown",
      "source": [
        "## Exercício 3"
      ],
      "metadata": {
        "id": "IyvBwNNob4bg"
      }
    },
    {
      "cell_type": "markdown",
      "source": [
        "Crie um algoritmo genético para resolver o seguinte problema:\n",
        "\n",
        "Maximize a função `𝑓(𝑥,𝑦) = 𝑥 ⋅ 𝑦`, onde `x` e `y` são números de ponto flutuante no intervalo [0, 10].\n",
        "\n",
        "Use diferentes operadores genéticos (seleção, crossover, mutação) dos utilizados nos exercícios anteriores."
      ],
      "metadata": {
        "id": "YIo6nFZ9b9if"
      }
    },
    {
      "cell_type": "code",
      "source": [
        "import random\n",
        "import numpy as np\n",
        "from deap import base, creator, tools, algorithms\n",
        "\n",
        "def eval_func_xy(individual):\n",
        "    x, y = individual\n",
        "    return (x, y)\n",
        "\n",
        "def cxBlendNew(ind1, ind2, alpha): # Modificando operador genético para não gerar valores fora do intervalo de 0 a 10\n",
        "    for i, (x1, x2) in enumerate(zip(ind1, ind2)):\n",
        "        gamma = (1. + 2. * alpha) * random.random() - alpha\n",
        "        ind1[i] = (1. - gamma) * x1 + gamma * x2\n",
        "        ind2[i] = gamma * x1 + (1. - gamma) * x2\n",
        "        ind1[i] = min(max(ind1[i], 0), 10.0)\n",
        "        ind2[i] = min(max(ind2[i], 0), 10.0)\n",
        "    return ind1, ind2\n",
        "\n",
        "creator.create(\"FitnessMax\", base.Fitness, weights=(1.0, 1.0))\n",
        "creator.create(\"Individual\", list, fitness=creator.FitnessMax)\n",
        "\n",
        "toolbox = base.Toolbox()\n",
        "toolbox.register(\"indices\", random.uniform, 0, 10)\n",
        "toolbox.register(\"individual\", tools.initCycle, creator.Individual, (toolbox.indices, toolbox.indices))\n",
        "toolbox.register(\"population\", tools.initRepeat, list, toolbox.individual)\n",
        "\n",
        "toolbox.register(\"evaluate\", eval_func_xy)\n",
        "toolbox.register(\"mate\", cxBlendNew, alpha=0.5)\n",
        "toolbox.register(\"mutate\", tools.mutPolynomialBounded, low=0, up=10, eta=1.0, indpb=0.2)\n",
        "toolbox.register(\"select\", tools.selRoulette)\n",
        "\n",
        "population = toolbox.population(n=50)\n",
        "\n",
        "algorithms.eaSimple(population, toolbox, cxpb=0.7, mutpb=0.2, ngen=10, verbose=False)\n",
        "\n",
        "best_ind = tools.selBest(population, 1)[0]\n",
        "\n",
        "print(f\"Best is {best_ind}, {best_ind[0] * best_ind[1]}\")"
      ],
      "metadata": {
        "id": "W5NvVAiZb8SF",
        "colab": {
          "base_uri": "https://localhost:8080/"
        },
        "outputId": "fe9ee611-9689-4530-d078-b9de44a0d0d4"
      },
      "execution_count": 25,
      "outputs": [
        {
          "output_type": "stream",
          "name": "stdout",
          "text": [
            "Best is [10.0, 7.359952650377416], 73.59952650377416\n"
          ]
        }
      ]
    },
    {
      "cell_type": "markdown",
      "source": [
        "## Exercício 4"
      ],
      "metadata": {
        "id": "YbOyZpK_hUp8"
      }
    },
    {
      "cell_type": "markdown",
      "source": [
        "Crie um algoritmo genético multi-objetivo para resolver o seguinte problema:\n",
        "\n",
        "Os indivíduos devem ser uma lista de `20` números de ponto flutuante no intervalo `[0,1]`.\n",
        "\n",
        "Minimize a soma dos índices pares enquanto maximiza a soma dos índices ímpares nesta lista. Minimizar os índices pares é duas vezes mais importante do que minimizar os índices ímpares.\n",
        "\n",
        "Use diferentes operadores genéticos (seleção, crossover, mutação) dos utilizados nos exercícios anteriores."
      ],
      "metadata": {
        "id": "Yoei94_3heQq"
      }
    },
    {
      "cell_type": "code",
      "source": [
        "import random\n",
        "import numpy as np\n",
        "from deap import base, creator, tools, algorithms\n",
        "\n",
        "def eval_func_par_impar(individual):\n",
        "  soma_par = 0\n",
        "  soma_impar = 0\n",
        "  for i in range(len(individual)):\n",
        "    num = individual[i]\n",
        "    if i % 2 == 0:\n",
        "      soma_par += num\n",
        "    else:\n",
        "      soma_impar += num\n",
        "  return(soma_par, soma_impar)\n",
        "\n",
        "creator.create(\"FitnessMulti\", base.Fitness, weights=(-2.0, 1.0))\n",
        "creator.create(\"Individual\", list, fitness=creator.FitnessMulti)\n",
        "\n",
        "toolbox = base.Toolbox()\n",
        "toolbox.register(\"indices\", random.uniform, 0, 1)\n",
        "toolbox.register(\"individual\", tools.initRepeat, creator.Individual, toolbox.indices, n=20)\n",
        "toolbox.register(\"population\", tools.initRepeat, list, toolbox.individual)\n",
        "\n",
        "toolbox.register(\"evaluate\", eval_func_par_impar)\n",
        "toolbox.register(\"mate\", tools.cxTwoPoint)\n",
        "toolbox.register(\"mutate\", tools.mutPolynomialBounded, low=0, up=1, eta=1.0, indpb=0.2)\n",
        "toolbox.register(\"select\", tools.selNSGA2)\n",
        "\n",
        "population = toolbox.population(n=50)\n",
        "\n",
        "algorithms.eaSimple(population, toolbox, cxpb=0.7, mutpb=0.2, ngen=100, verbose=False)\n",
        "\n",
        "best_ind = tools.selBest(population, 1)[0]\n",
        "\n",
        "result = eval_func_par_impar(best_ind)\n",
        "print(f\"Best is {best_ind} \\n Soma indices pares: {result[0]} \\n Soma indices impares: {result[1]}\")"
      ],
      "metadata": {
        "id": "b2eDI6BEhVuZ",
        "colab": {
          "base_uri": "https://localhost:8080/"
        },
        "outputId": "d76ab658-62b6-4fd7-a106-18fa33dead5a"
      },
      "execution_count": 48,
      "outputs": [
        {
          "output_type": "stream",
          "name": "stdout",
          "text": [
            "Best is [0.03978469744370494, 0.9689161543704655, 0.030775645289153886, 0.9320903487236003, 0.09654844522372763, 0.8410932580896259, 0.43281732372460824, 0.8945558183187353, 0.13183968223917153, 0.06788676359501788, 0.01932249208481096, 0.32348955764110654, 0.00561116774609105, 0.9781564067730653, 0.12035161309097109, 0.9999477428530916, 0.07138782592733084, 0.991918702727271, 0.1211826310830636, 0.9991650231596368] \n",
            " Soma indices pares: 1.0696215238526339 \n",
            " Soma indices impares: 7.997219776251616\n"
          ]
        }
      ]
    },
    {
      "cell_type": "markdown",
      "source": [
        "## Exercício 5"
      ],
      "metadata": {
        "id": "hj6KWHeMkSs-"
      }
    },
    {
      "cell_type": "markdown",
      "source": [
        "Escolha uma das implementações anteriores do algoritmo genético, registre a aptidão média ao longo das gerações e plote em um gráfico."
      ],
      "metadata": {
        "id": "tweRDe-tkXL5"
      }
    },
    {
      "cell_type": "code",
      "source": [
        "# exercicio 2\n",
        "\n",
        "import matplotlib.pyplot as plt\n",
        "import random\n",
        "import numpy as np\n",
        "from deap import base, creator, tools, algorithms\n",
        "\n",
        "n = 10\n",
        "def evalnumeros(individual):\n",
        "  cont = 0\n",
        "  soma_corretos = 0\n",
        "  for num in individual:\n",
        "    if num == cont:\n",
        "      soma_corretos += 1\n",
        "    cont += 1\n",
        "  return (soma_corretos,)\n",
        "\n",
        "def estatisticaSalvar(individual):\n",
        "  return (individual.fitness.values)\n",
        "\n",
        "creator.create(\"FitnessMax\", base.Fitness, weights=(1.0,))\n",
        "creator.create(\"Individual\", list, fitness=creator.FitnessMax)\n",
        "\n",
        "toolbox = base.Toolbox()\n",
        "toolbox.register(\"indices\", np.random.permutation, n)\n",
        "toolbox.register(\"individual\", tools.initIterate, creator.Individual, toolbox.indices)\n",
        "toolbox.register(\"population\", tools.initRepeat, list, toolbox.individual)\n",
        "\n",
        "toolbox.register(\"evaluate\", evalnumeros)\n",
        "toolbox.register(\"mate\", tools.cxOrdered)\n",
        "toolbox.register(\"mutate\", tools.mutShuffleIndexes, indpb=0.05)\n",
        "toolbox.register(\"select\", tools.selTournament, tournsize=3)\n",
        "\n",
        "population = toolbox.population(n=50)\n",
        "\n",
        "estatistica = tools.Statistics(estatisticaSalvar)\n",
        "estatistica.register(\"mean\", np.mean)\n",
        "estatistica.register(\"min\", np.min)\n",
        "estatistica.register(\"max\", np.max)\n",
        "\n",
        "hof = tools.HallOfFame(1)\n",
        "\n",
        "result, log = algorithms.eaSimple(population, toolbox, cxpb=0.7, mutpb=0.2, ngen=100, verbose=True, stats=estatistica, halloffame=hof)\n",
        "\n",
        "best_ind = tools.selBest(population, 1)[0]\n",
        "\n",
        "print(f\"Best is {best_ind}, {evalnumeros(best_ind)}\")"
      ],
      "metadata": {
        "id": "Tk4w5HVckVjH",
        "colab": {
          "base_uri": "https://localhost:8080/"
        },
        "outputId": "7742b562-6f6c-4cd8-c6d5-5246d195e638"
      },
      "execution_count": 51,
      "outputs": [
        {
          "output_type": "stream",
          "name": "stdout",
          "text": [
            "gen\tnevals\tmean\tmin\tmax\n",
            "0  \t50    \t0.98\t0  \t3  \n",
            "1  \t43    \t1.84\t0  \t4  \n",
            "2  \t41    \t2.2 \t0  \t4  \n",
            "3  \t40    \t2.86\t0  \t7  \n",
            "4  \t32    \t3.04\t0  \t7  \n",
            "5  \t43    \t3.02\t0  \t7  \n",
            "6  \t34    \t3.62\t1  \t7  \n",
            "7  \t33    \t3.68\t1  \t7  \n",
            "8  \t41    \t3.92\t1  \t7  \n",
            "9  \t34    \t4.44\t0  \t7  \n",
            "10 \t41    \t4.4 \t1  \t7  \n",
            "11 \t38    \t5.68\t0  \t7  \n",
            "12 \t40    \t6.7 \t4  \t7  \n",
            "13 \t35    \t6.84\t4  \t7  \n",
            "14 \t35    \t6.7 \t4  \t7  \n",
            "15 \t37    \t6.98\t5  \t8  \n",
            "16 \t34    \t6.98\t5  \t8  \n",
            "17 \t45    \t6.62\t2  \t8  \n",
            "18 \t37    \t7.1 \t5  \t8  \n",
            "19 \t39    \t7.02\t2  \t8  \n",
            "20 \t39    \t7.34\t2  \t8  \n",
            "21 \t38    \t7.92\t6  \t8  \n",
            "22 \t38    \t7.92\t6  \t8  \n",
            "23 \t34    \t7.92\t6  \t8  \n",
            "24 \t36    \t7.82\t4  \t8  \n",
            "25 \t40    \t8   \t7  \t10 \n",
            "26 \t34    \t8.06\t3  \t10 \n",
            "27 \t40    \t8.44\t3  \t10 \n",
            "28 \t26    \t9.44\t8  \t10 \n",
            "29 \t43    \t9.72\t6  \t10 \n",
            "30 \t36    \t9.88\t6  \t10 \n",
            "31 \t32    \t9.96\t8  \t10 \n",
            "32 \t42    \t9.78\t7  \t10 \n",
            "33 \t40    \t9.84\t8  \t10 \n",
            "34 \t39    \t9.96\t8  \t10 \n",
            "35 \t33    \t9.74\t7  \t10 \n",
            "36 \t30    \t9.62\t6  \t10 \n",
            "37 \t34    \t9.68\t8  \t10 \n",
            "38 \t41    \t9.96\t8  \t10 \n",
            "39 \t44    \t9.84\t8  \t10 \n",
            "40 \t43    \t9.92\t8  \t10 \n",
            "41 \t38    \t9.88\t6  \t10 \n",
            "42 \t37    \t9.84\t8  \t10 \n",
            "43 \t35    \t9.96\t8  \t10 \n",
            "44 \t42    \t9.6 \t6  \t10 \n",
            "45 \t32    \t9.64\t6  \t10 \n",
            "46 \t37    \t9.76\t8  \t10 \n",
            "47 \t40    \t9.92\t8  \t10 \n",
            "48 \t31    \t9.7 \t3  \t10 \n",
            "49 \t33    \t9.74\t5  \t10 \n",
            "50 \t37    \t9.68\t8  \t10 \n",
            "51 \t40    \t9.84\t8  \t10 \n",
            "52 \t35    \t9.76\t6  \t10 \n",
            "53 \t29    \t9.84\t6  \t10 \n",
            "54 \t37    \t9.64\t6  \t10 \n",
            "55 \t44    \t9.46\t4  \t10 \n",
            "56 \t43    \t9.76\t6  \t10 \n",
            "57 \t46    \t9.88\t8  \t10 \n",
            "58 \t36    \t9.6 \t6  \t10 \n",
            "59 \t40    \t9.76\t6  \t10 \n",
            "60 \t36    \t9.76\t8  \t10 \n",
            "61 \t39    \t9.8 \t6  \t10 \n",
            "62 \t33    \t9.76\t6  \t10 \n",
            "63 \t36    \t9.74\t5  \t10 \n",
            "64 \t39    \t9.7 \t7  \t10 \n",
            "65 \t36    \t9.92\t6  \t10 \n",
            "66 \t38    \t9.76\t8  \t10 \n",
            "67 \t47    \t9.76\t8  \t10 \n",
            "68 \t34    \t9.88\t8  \t10 \n",
            "69 \t42    \t9.62\t6  \t10 \n",
            "70 \t40    \t9.42\t3  \t10 \n",
            "71 \t30    \t9.96\t8  \t10 \n",
            "72 \t43    \t9.76\t4  \t10 \n",
            "73 \t42    \t9.84\t8  \t10 \n",
            "74 \t36    \t9.84\t6  \t10 \n",
            "75 \t45    \t9.86\t6  \t10 \n",
            "76 \t38    \t9.78\t5  \t10 \n",
            "77 \t38    \t9.88\t6  \t10 \n",
            "78 \t35    \t9.84\t6  \t10 \n",
            "79 \t45    \t9.52\t6  \t10 \n",
            "80 \t43    \t9.74\t6  \t10 \n",
            "81 \t36    \t9.72\t8  \t10 \n",
            "82 \t35    \t9.94\t7  \t10 \n",
            "83 \t33    \t9.84\t8  \t10 \n",
            "84 \t37    \t9.82\t6  \t10 \n",
            "85 \t46    \t9.72\t6  \t10 \n",
            "86 \t40    \t9.8 \t8  \t10 \n",
            "87 \t35    \t9.88\t8  \t10 \n",
            "88 \t32    \t9.68\t4  \t10 \n",
            "89 \t42    \t9.84\t8  \t10 \n",
            "90 \t43    \t9.9 \t7  \t10 \n",
            "91 \t35    \t9.88\t8  \t10 \n",
            "92 \t37    \t9.72\t6  \t10 \n",
            "93 \t40    \t9.54\t6  \t10 \n",
            "94 \t36    \t9.68\t5  \t10 \n",
            "95 \t35    \t9.8 \t6  \t10 \n",
            "96 \t44    \t9.68\t8  \t10 \n",
            "97 \t44    \t9.7 \t6  \t10 \n",
            "98 \t36    \t9.84\t8  \t10 \n",
            "99 \t41    \t9.92\t8  \t10 \n",
            "100\t36    \t9.88\t8  \t10 \n",
            "Best is [0, 1, 2, 3, 4, 5, 6, 7, 8, 9], (10,)\n"
          ]
        }
      ]
    },
    {
      "cell_type": "code",
      "source": [
        "menores = log.select(\"min\")\n",
        "maiores = log.select(\"max\")\n",
        "media = log.select(\"mean\")\n",
        "\n",
        "plt.plot(menores, label=\"Menores\")\n",
        "plt.plot(maiores, label=\"Maiores\")\n",
        "plt.plot(media, label=\"Media\")\n",
        "plt.xlabel(\"Geração\")\n",
        "plt.ylabel(\"Aptidão\")\n",
        "plt.legend()"
      ],
      "metadata": {
        "colab": {
          "base_uri": "https://localhost:8080/",
          "height": 466
        },
        "id": "UXmG2SFfBEmy",
        "outputId": "90464685-d216-40e8-c1bd-72e26073c065"
      },
      "execution_count": 55,
      "outputs": [
        {
          "output_type": "execute_result",
          "data": {
            "text/plain": [
              "<matplotlib.legend.Legend at 0x7a7e67c04760>"
            ]
          },
          "metadata": {},
          "execution_count": 55
        },
        {
          "output_type": "display_data",
          "data": {
            "text/plain": [
              "<Figure size 640x480 with 1 Axes>"
            ],
            "image/png": "[encoded data removed]"
          },
          "metadata": {}
        }
      ]
    }
  ]
}